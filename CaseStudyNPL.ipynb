{
  "nbformat": 4,
  "nbformat_minor": 0,
  "metadata": {
    "anaconda-cloud": {},
    "kernelspec": {
      "display_name": "NN",
      "language": "python",
      "name": "keras_env"
    },
    "language_info": {
      "codemirror_mode": {
        "name": "ipython",
        "version": 3
      },
      "file_extension": ".py",
      "mimetype": "text/x-python",
      "name": "python",
      "nbconvert_exporter": "python",
      "pygments_lexer": "ipython3",
      "version": "3.6.5"
    },
    "toc": {
      "colors": {
        "hover_highlight": "#DAA520",
        "navigate_num": "#000000",
        "navigate_text": "#333333",
        "running_highlight": "#FF0000",
        "selected_highlight": "#FFD700",
        "sidebar_border": "#EEEEEE",
        "wrapper_background": "#FFFFFF"
      },
      "moveMenuLeft": true,
      "nav_menu": {
        "height": "48px",
        "width": "252px"
      },
      "navigate_menu": true,
      "number_sections": true,
      "sideBar": true,
      "threshold": 4,
      "toc_cell": false,
      "toc_section_display": "block",
      "toc_window_display": false,
      "widenNotebook": false
    },
    "colab": {
      "name": "CaseStudyNPL.ipynb",
      "provenance": [],
      "collapsed_sections": [],
      "include_colab_link": true
    }
  },
  "cells": [
    {
      "cell_type": "markdown",
      "metadata": {
        "id": "view-in-github",
        "colab_type": "text"
      },
      "source": [
        "<a href=\"https://colab.research.google.com/github/m4nko/TT050-MineracaoDeTexto/blob/main/CaseStudyNPL.ipynb\" target=\"_parent\"><img src=\"https://colab.research.google.com/assets/colab-badge.svg\" alt=\"Open In Colab\"/></a>"
      ]
    },
    {
      "cell_type": "markdown",
      "metadata": {
        "id": "gqU3FUhyUyQ-"
      },
      "source": [
        "# Processamento de linguagem natural (PLN) "
      ]
    },
    {
      "cell_type": "markdown",
      "metadata": {
        "id": "TR26cFBqUyRF"
      },
      "source": [
        "## Introdução"
      ]
    },
    {
      "cell_type": "markdown",
      "metadata": {
        "id": "soD2nxpXUyRG"
      },
      "source": [
        "\n",
        "Considerando os dados que contém análises de usuários para muitos produtos, [disponível no Kaggle](https://www.kaggle.com/snap/amazon-fine-food-reviews), vamos concentrar no produto do conjunto de dados que teve mais análises - um cookie de aveia.\n",
        "\n",
        "\n",
        "\n"
      ]
    },
    {
      "cell_type": "code",
      "metadata": {
        "collapsed": true,
        "colab": {
          "base_uri": "https://localhost:8080/"
        },
        "id": "gxJPvVqTUyRH",
        "outputId": "657410f7-2a1f-4783-fff0-a6b906eb57aa"
      },
      "source": [
        "import nltk\n",
        "#nltk.download()  #<-- Run this if it's your first time using nltk to download all of the datasets and models\n",
        "nltk.download('punkt')\n",
        "nltk.download('stopwords')\n",
        "nltk.download('averaged_perceptron_tagger')\n",
        "nltk.download('wordnet')\n",
        "\n",
        "import pandas as pd"
      ],
      "execution_count": null,
      "outputs": [
        {
          "output_type": "stream",
          "name": "stdout",
          "text": [
            "[nltk_data] Downloading package punkt to /root/nltk_data...\n",
            "[nltk_data]   Unzipping tokenizers/punkt.zip.\n",
            "[nltk_data] Downloading package stopwords to /root/nltk_data...\n",
            "[nltk_data]   Unzipping corpora/stopwords.zip.\n",
            "[nltk_data] Downloading package averaged_perceptron_tagger to\n",
            "[nltk_data]     /root/nltk_data...\n",
            "[nltk_data]   Unzipping taggers/averaged_perceptron_tagger.zip.\n",
            "[nltk_data] Downloading package wordnet to /root/nltk_data...\n",
            "[nltk_data]   Unzipping corpora/wordnet.zip.\n"
          ]
        }
      ]
    },
    {
      "cell_type": "code",
      "metadata": {
        "colab": {
          "base_uri": "https://localhost:8080/",
          "height": 193
        },
        "id": "gWFgb2WuUyRI",
        "outputId": "28631e9b-f40a-4f02-fdf1-d1f24e3f4e20"
      },
      "source": [
        "data = pd.read_csv('sample_data/cookie_reviews.csv')\n",
        "data.head()"
      ],
      "execution_count": null,
      "outputs": [
        {
          "output_type": "error",
          "ename": "NameError",
          "evalue": "ignored",
          "traceback": [
            "\u001b[0;31m---------------------------------------------------------------------------\u001b[0m",
            "\u001b[0;31mNameError\u001b[0m                                 Traceback (most recent call last)",
            "\u001b[0;32m<ipython-input-1-c37d8b82176e>\u001b[0m in \u001b[0;36m<module>\u001b[0;34m()\u001b[0m\n\u001b[0;32m----> 1\u001b[0;31m \u001b[0mdata\u001b[0m \u001b[0;34m=\u001b[0m \u001b[0mpd\u001b[0m\u001b[0;34m.\u001b[0m\u001b[0mread_csv\u001b[0m\u001b[0;34m(\u001b[0m\u001b[0;34m'sample_data/cookie_reviews.csv'\u001b[0m\u001b[0;34m)\u001b[0m\u001b[0;34m\u001b[0m\u001b[0;34m\u001b[0m\u001b[0m\n\u001b[0m\u001b[1;32m      2\u001b[0m \u001b[0mdata\u001b[0m\u001b[0;34m.\u001b[0m\u001b[0mhead\u001b[0m\u001b[0;34m(\u001b[0m\u001b[0;34m)\u001b[0m\u001b[0;34m\u001b[0m\u001b[0;34m\u001b[0m\u001b[0m\n",
            "\u001b[0;31mNameError\u001b[0m: name 'pd' is not defined"
          ]
        }
      ]
    },
    {
      "cell_type": "markdown",
      "metadata": {
        "id": "rdXQBesDUyRK"
      },
      "source": [
        "## Conhecendo os dados ##"
      ]
    },
    {
      "cell_type": "markdown",
      "metadata": {
        "id": "bWVbovW_UyRK"
      },
      "source": [
        "* Determine quantas revisões há no total.\n",
        "* Determine a porcentagem de revisões por estrela 1, 2, 3, 4, 5.\n",
        "* Determine a distribuição do número de caracteres das revisões. Listando os valores  plotando o histograma."
      ]
    },
    {
      "cell_type": "code",
      "metadata": {
        "colab": {
          "base_uri": "https://localhost:8080/"
        },
        "id": "Zerm5z5GUyRL",
        "outputId": "1cda52de-5254-45d2-bbc6-de0fed3b8716"
      },
      "source": [
        "# Número de revisões\n",
        "len(data)"
      ],
      "execution_count": null,
      "outputs": [
        {
          "output_type": "execute_result",
          "data": {
            "text/plain": [
              "913"
            ]
          },
          "metadata": {},
          "execution_count": 7
        }
      ]
    },
    {
      "cell_type": "code",
      "metadata": {
        "colab": {
          "base_uri": "https://localhost:8080/"
        },
        "id": "58ihzh13UyRL",
        "outputId": "3b2458cc-729d-42a4-deca-d4f0f6f5ece1"
      },
      "source": [
        "# Porcentagem de revisões por estrela\n",
        "data.stars.value_counts(normalize=True)"
      ],
      "execution_count": null,
      "outputs": [
        {
          "output_type": "execute_result",
          "data": {
            "text/plain": [
              "5    0.683461\n",
              "4    0.237678\n",
              "3    0.061336\n",
              "2    0.013143\n",
              "1    0.004381\n",
              "Name: stars, dtype: float64"
            ]
          },
          "metadata": {},
          "execution_count": 8
        }
      ]
    },
    {
      "cell_type": "code",
      "metadata": {
        "scrolled": true,
        "colab": {
          "base_uri": "https://localhost:8080/"
        },
        "id": "ie5SL9lWUyRM",
        "outputId": "d2a98bfa-68bb-434d-a5c9-df25d5c3590f"
      },
      "source": [
        "# Número de caracteres x número de revisões \n",
        "data.reviews.map(len).value_counts().head()"
      ],
      "execution_count": null,
      "outputs": [
        {
          "output_type": "execute_result",
          "data": {
            "text/plain": [
              "134    10\n",
              "157     9\n",
              "137     8\n",
              "107     8\n",
              "132     8\n",
              "Name: reviews, dtype: int64"
            ]
          },
          "metadata": {},
          "execution_count": 9
        }
      ]
    },
    {
      "cell_type": "code",
      "metadata": {
        "collapsed": true,
        "id": "mpvr_UiCUyRN"
      },
      "source": [
        "import matplotlib.pyplot as plt\n",
        "import seaborn as sns\n",
        "\n",
        "sns.set_style('white')\n",
        "sns.set_palette('dark')\n",
        "sns.set_context('talk')\n",
        "\n",
        "%matplotlib inline"
      ],
      "execution_count": null,
      "outputs": []
    },
    {
      "cell_type": "code",
      "metadata": {
        "colab": {
          "base_uri": "https://localhost:8080/",
          "height": 321
        },
        "id": "IENl327FUyRO",
        "outputId": "667c827d-ed2f-480c-8d6e-480216eccced"
      },
      "source": [
        "# Histograma dos tamanhos das revisões em caractere\n",
        "ax = data.reviews.map(len).hist(bins=50)\n",
        "ax.set(xlabel='Tam. Revisão', ylabel='Frequencia', title='Histograma de tamanho de revisão');"
      ],
      "execution_count": null,
      "outputs": [
        {
          "output_type": "display_data",
          "data": {
            "image/png": "[encoded data removed]",
            "text/plain": [
              "<Figure size 432x288 with 1 Axes>"
            ]
          },
          "metadata": {
            "needs_background": "light"
          }
        }
      ]
    },
    {
      "cell_type": "markdown",
      "metadata": {
        "id": "DR0ah4yMUyRP"
      },
      "source": [
        "## Pré-processamento ##"
      ]
    },
    {
      "cell_type": "markdown",
      "metadata": {
        "collapsed": true,
        "id": "hTpFOE1mUyRP"
      },
      "source": [
        "* Aplicando as seguintes etapas de pré-processamento:\n",
        "\n",
        "     1. Remova as palavras que contém números\n",
        "     2. Torne todo texto minusculo\n",
        "     3. Remova pontuação\n",
        "     4. Tokenize as revisões em palavras\n",
        "     \n",
        "     \n",
        "* Encontre as palavras mais comuns.\n",
        "* Determine a distribuição do tamanho das palavras no corpus."
      ]
    },
    {
      "cell_type": "code",
      "metadata": {
        "colab": {
          "base_uri": "https://localhost:8080/",
          "height": 206
        },
        "id": "b5ELxz5mUyRQ",
        "outputId": "899646de-5da3-4b39-b272-30752f3a5e58"
      },
      "source": [
        "# Vamos ver como são os dados\n",
        "data.head()"
      ],
      "execution_count": null,
      "outputs": [
        {
          "output_type": "execute_result",
          "data": {
            "text/html": [
              "<div>\n",
              "<style scoped>\n",
              "    .dataframe tbody tr th:only-of-type {\n",
              "        vertical-align: middle;\n",
              "    }\n",
              "\n",
              "    .dataframe tbody tr th {\n",
              "        vertical-align: top;\n",
              "    }\n",
              "\n",
              "    .dataframe thead th {\n",
              "        text-align: right;\n",
              "    }\n",
              "</style>\n",
              "<table border=\"1\" class=\"dataframe\">\n",
              "  <thead>\n",
              "    <tr style=\"text-align: right;\">\n",
              "      <th></th>\n",
              "      <th>user_id</th>\n",
              "      <th>stars</th>\n",
              "      <th>reviews</th>\n",
              "    </tr>\n",
              "  </thead>\n",
              "  <tbody>\n",
              "    <tr>\n",
              "      <th>0</th>\n",
              "      <td>A368Z46FIKHSEZ</td>\n",
              "      <td>5</td>\n",
              "      <td>I love these cookies!  Not only are they healt...</td>\n",
              "    </tr>\n",
              "    <tr>\n",
              "      <th>1</th>\n",
              "      <td>A1JAPP1CXRG57A</td>\n",
              "      <td>5</td>\n",
              "      <td>Quaker Soft Baked Oatmeal Cookies with raisins...</td>\n",
              "    </tr>\n",
              "    <tr>\n",
              "      <th>2</th>\n",
              "      <td>A2Z9JNXPIEL2B9</td>\n",
              "      <td>5</td>\n",
              "      <td>I am usually not a huge fan of oatmeal cookies...</td>\n",
              "    </tr>\n",
              "    <tr>\n",
              "      <th>3</th>\n",
              "      <td>A31CYJQO3FL586</td>\n",
              "      <td>5</td>\n",
              "      <td>I participated in a product review that includ...</td>\n",
              "    </tr>\n",
              "    <tr>\n",
              "      <th>4</th>\n",
              "      <td>A2KXQ2EKFF3K2G</td>\n",
              "      <td>5</td>\n",
              "      <td>My kids loved these. I was very pleased to giv...</td>\n",
              "    </tr>\n",
              "  </tbody>\n",
              "</table>\n",
              "</div>"
            ],
            "text/plain": [
              "          user_id  stars                                            reviews\n",
              "0  A368Z46FIKHSEZ      5  I love these cookies!  Not only are they healt...\n",
              "1  A1JAPP1CXRG57A      5  Quaker Soft Baked Oatmeal Cookies with raisins...\n",
              "2  A2Z9JNXPIEL2B9      5  I am usually not a huge fan of oatmeal cookies...\n",
              "3  A31CYJQO3FL586      5  I participated in a product review that includ...\n",
              "4  A2KXQ2EKFF3K2G      5  My kids loved these. I was very pleased to giv..."
            ]
          },
          "metadata": {},
          "execution_count": 12
        }
      ]
    },
    {
      "cell_type": "code",
      "metadata": {
        "colab": {
          "base_uri": "https://localhost:8080/",
          "height": 204
        },
        "id": "C1s1HrbkUyRR",
        "outputId": "e1d4ce63-48bd-4e17-d86f-ecb20b0e6035"
      },
      "source": [
        "# Exemplo de uma revisão\n",
        "data.iloc[1,2]"
      ],
      "execution_count": null,
      "outputs": [
        {
          "output_type": "execute_result",
          "data": {
            "application/vnd.google.colaboratory.intrinsic+json": {
              "type": "string"
            },
            "text/plain": [
              "'Quaker Soft Baked Oatmeal Cookies with raisins are a delicious treat, great for anytime of day.  For example:<br /><br />--at breakfast, I had one with a large banana and a cup of coffee, and felt I\\'d had a relatively \"healthy\" start to the day.<br /><br />--the next day at lunch, following a tuna sandwich, I had one with a glass of milk, and was satisfied enough to not need a snack before dinner at 6:30.<br /><br />--the following night, after dinner, I had one with the remainder of my glass of wine. (Delicious!) And again, didn\\'t feel the need to snack later in the evening.<br /><br />Each cookie is individually packaged, and their texture is soft and moist, with just the right amount of sweetness. Natural flavors used in the making are Cinnamon and All Spice.  These flavorings give the cookies a real old-fashioned, homemade taste.<br /><br />Nutritionally, the cookies have 170 calories each, 1.5g saturated fat, 150 mg sodium, and 12g sugar. They also have 2g of protein, and contain 25g of fiber.<br /><br />While the calorie count may seem a bit high for one cookie, they are good sized, and 1 cookie per serving is certainly enough to satisfy.<br /><br />Because of their great taste and texture, kids will probably enjoy them also.<br /><br />If you like oatmeal raisin cookies, give these a try!'"
            ]
          },
          "metadata": {},
          "execution_count": 13
        }
      ]
    },
    {
      "cell_type": "code",
      "metadata": {
        "scrolled": true,
        "colab": {
          "base_uri": "https://localhost:8080/",
          "height": 206
        },
        "id": "NccXdb-FUyRS",
        "outputId": "1fe49081-f70c-45b2-cdf7-3e8cbb14f674"
      },
      "source": [
        "# A expressão regular abaixo remove toda palavra com número e torna as palavras minusculas\n",
        "import re\n",
        "\n",
        "lower_alpha = lambda x: re.sub(r\"\"\"\\w*\\d\\w*\"\"\", ' ', x.lower())\n",
        "data['reviews'] = data.reviews.map(lower_alpha)\n",
        "\n",
        "data.head()"
      ],
      "execution_count": null,
      "outputs": [
        {
          "output_type": "execute_result",
          "data": {
            "text/html": [
              "<div>\n",
              "<style scoped>\n",
              "    .dataframe tbody tr th:only-of-type {\n",
              "        vertical-align: middle;\n",
              "    }\n",
              "\n",
              "    .dataframe tbody tr th {\n",
              "        vertical-align: top;\n",
              "    }\n",
              "\n",
              "    .dataframe thead th {\n",
              "        text-align: right;\n",
              "    }\n",
              "</style>\n",
              "<table border=\"1\" class=\"dataframe\">\n",
              "  <thead>\n",
              "    <tr style=\"text-align: right;\">\n",
              "      <th></th>\n",
              "      <th>user_id</th>\n",
              "      <th>stars</th>\n",
              "      <th>reviews</th>\n",
              "    </tr>\n",
              "  </thead>\n",
              "  <tbody>\n",
              "    <tr>\n",
              "      <th>0</th>\n",
              "      <td>A368Z46FIKHSEZ</td>\n",
              "      <td>5</td>\n",
              "      <td>i love these cookies!  not only are they healt...</td>\n",
              "    </tr>\n",
              "    <tr>\n",
              "      <th>1</th>\n",
              "      <td>A1JAPP1CXRG57A</td>\n",
              "      <td>5</td>\n",
              "      <td>quaker soft baked oatmeal cookies with raisins...</td>\n",
              "    </tr>\n",
              "    <tr>\n",
              "      <th>2</th>\n",
              "      <td>A2Z9JNXPIEL2B9</td>\n",
              "      <td>5</td>\n",
              "      <td>i am usually not a huge fan of oatmeal cookies...</td>\n",
              "    </tr>\n",
              "    <tr>\n",
              "      <th>3</th>\n",
              "      <td>A31CYJQO3FL586</td>\n",
              "      <td>5</td>\n",
              "      <td>i participated in a product review that includ...</td>\n",
              "    </tr>\n",
              "    <tr>\n",
              "      <th>4</th>\n",
              "      <td>A2KXQ2EKFF3K2G</td>\n",
              "      <td>5</td>\n",
              "      <td>my kids loved these. i was very pleased to giv...</td>\n",
              "    </tr>\n",
              "  </tbody>\n",
              "</table>\n",
              "</div>"
            ],
            "text/plain": [
              "          user_id  stars                                            reviews\n",
              "0  A368Z46FIKHSEZ      5  i love these cookies!  not only are they healt...\n",
              "1  A1JAPP1CXRG57A      5  quaker soft baked oatmeal cookies with raisins...\n",
              "2  A2Z9JNXPIEL2B9      5  i am usually not a huge fan of oatmeal cookies...\n",
              "3  A31CYJQO3FL586      5  i participated in a product review that includ...\n",
              "4  A2KXQ2EKFF3K2G      5  my kids loved these. i was very pleased to giv..."
            ]
          },
          "metadata": {},
          "execution_count": 14
        }
      ]
    },
    {
      "cell_type": "code",
      "metadata": {
        "scrolled": true,
        "colab": {
          "base_uri": "https://localhost:8080/",
          "height": 206
        },
        "id": "PRAEVD6kUyRT",
        "outputId": "43efb10c-e293-4fad-eaf6-68be771f1a6a"
      },
      "source": [
        "# Removendo as pontuações\n",
        "import string\n",
        "\n",
        "punc_re = lambda x: re.sub('[%s]' % re.escape(string.punctuation), ' ', x)\n",
        "data['reviews'] = data.reviews.map(punc_re)\n",
        "\n",
        "data.head()"
      ],
      "execution_count": null,
      "outputs": [
        {
          "output_type": "execute_result",
          "data": {
            "text/html": [
              "<div>\n",
              "<style scoped>\n",
              "    .dataframe tbody tr th:only-of-type {\n",
              "        vertical-align: middle;\n",
              "    }\n",
              "\n",
              "    .dataframe tbody tr th {\n",
              "        vertical-align: top;\n",
              "    }\n",
              "\n",
              "    .dataframe thead th {\n",
              "        text-align: right;\n",
              "    }\n",
              "</style>\n",
              "<table border=\"1\" class=\"dataframe\">\n",
              "  <thead>\n",
              "    <tr style=\"text-align: right;\">\n",
              "      <th></th>\n",
              "      <th>user_id</th>\n",
              "      <th>stars</th>\n",
              "      <th>reviews</th>\n",
              "    </tr>\n",
              "  </thead>\n",
              "  <tbody>\n",
              "    <tr>\n",
              "      <th>0</th>\n",
              "      <td>A368Z46FIKHSEZ</td>\n",
              "      <td>5</td>\n",
              "      <td>i love these cookies   not only are they healt...</td>\n",
              "    </tr>\n",
              "    <tr>\n",
              "      <th>1</th>\n",
              "      <td>A1JAPP1CXRG57A</td>\n",
              "      <td>5</td>\n",
              "      <td>quaker soft baked oatmeal cookies with raisins...</td>\n",
              "    </tr>\n",
              "    <tr>\n",
              "      <th>2</th>\n",
              "      <td>A2Z9JNXPIEL2B9</td>\n",
              "      <td>5</td>\n",
              "      <td>i am usually not a huge fan of oatmeal cookies...</td>\n",
              "    </tr>\n",
              "    <tr>\n",
              "      <th>3</th>\n",
              "      <td>A31CYJQO3FL586</td>\n",
              "      <td>5</td>\n",
              "      <td>i participated in a product review that includ...</td>\n",
              "    </tr>\n",
              "    <tr>\n",
              "      <th>4</th>\n",
              "      <td>A2KXQ2EKFF3K2G</td>\n",
              "      <td>5</td>\n",
              "      <td>my kids loved these  i was very pleased to giv...</td>\n",
              "    </tr>\n",
              "  </tbody>\n",
              "</table>\n",
              "</div>"
            ],
            "text/plain": [
              "          user_id  stars                                            reviews\n",
              "0  A368Z46FIKHSEZ      5  i love these cookies   not only are they healt...\n",
              "1  A1JAPP1CXRG57A      5  quaker soft baked oatmeal cookies with raisins...\n",
              "2  A2Z9JNXPIEL2B9      5  i am usually not a huge fan of oatmeal cookies...\n",
              "3  A31CYJQO3FL586      5  i participated in a product review that includ...\n",
              "4  A2KXQ2EKFF3K2G      5  my kids loved these  i was very pleased to giv..."
            ]
          },
          "metadata": {},
          "execution_count": 15
        }
      ]
    },
    {
      "cell_type": "code",
      "metadata": {
        "colab": {
          "base_uri": "https://localhost:8080/",
          "height": 204
        },
        "id": "C1SSgEyvUyRT",
        "outputId": "cb1570f9-5e37-4968-b99c-cdbc421d3e5f"
      },
      "source": [
        "# Revisão após alguns pré-processamentos de limpeza\n",
        "data.iloc[1,2]"
      ],
      "execution_count": null,
      "outputs": [
        {
          "output_type": "execute_result",
          "data": {
            "application/vnd.google.colaboratory.intrinsic+json": {
              "type": "string"
            },
            "text/plain": [
              "'quaker soft baked oatmeal cookies with raisins are a delicious treat  great for anytime of day   for example  br    br     at breakfast  i had one with a large banana and a cup of coffee  and felt i d had a relatively  healthy  start to the day  br    br     the next day at lunch  following a tuna sandwich  i had one with a glass of milk  and was satisfied enough to not need a snack before dinner at      br    br     the following night  after dinner  i had one with the remainder of my glass of wine   delicious   and again  didn t feel the need to snack later in the evening  br    br   each cookie is individually packaged  and their texture is soft and moist  with just the right amount of sweetness  natural flavors used in the making are cinnamon and all spice   these flavorings give the cookies a real old fashioned  homemade taste  br    br   nutritionally  the cookies have   calories each      saturated fat    mg sodium  and   sugar  they also have   of protein  and contain   of fiber  br    br   while the calorie count may seem a bit high for one cookie  they are good sized  and   cookie per serving is certainly enough to satisfy  br    br   because of their great taste and texture  kids will probably enjoy them also  br    br   if you like oatmeal raisin cookies  give these a try '"
            ]
          },
          "metadata": {},
          "execution_count": 16
        }
      ]
    },
    {
      "cell_type": "code",
      "metadata": {
        "scrolled": true,
        "colab": {
          "base_uri": "https://localhost:8080/",
          "height": 206
        },
        "id": "y99ARGbkUyRU",
        "outputId": "5246d5c7-feba-425c-ff83-fe58bb30a6c3"
      },
      "source": [
        "# Removendo <br> \n",
        "\n",
        "remove_br = lambda x: re.sub(r\"\"\" br \"\"\", ' ', x.lower())\n",
        "data['reviews'] = data.reviews.map(remove_br)\n",
        "\n",
        "data.head()"
      ],
      "execution_count": null,
      "outputs": [
        {
          "output_type": "execute_result",
          "data": {
            "text/html": [
              "<div>\n",
              "<style scoped>\n",
              "    .dataframe tbody tr th:only-of-type {\n",
              "        vertical-align: middle;\n",
              "    }\n",
              "\n",
              "    .dataframe tbody tr th {\n",
              "        vertical-align: top;\n",
              "    }\n",
              "\n",
              "    .dataframe thead th {\n",
              "        text-align: right;\n",
              "    }\n",
              "</style>\n",
              "<table border=\"1\" class=\"dataframe\">\n",
              "  <thead>\n",
              "    <tr style=\"text-align: right;\">\n",
              "      <th></th>\n",
              "      <th>user_id</th>\n",
              "      <th>stars</th>\n",
              "      <th>reviews</th>\n",
              "    </tr>\n",
              "  </thead>\n",
              "  <tbody>\n",
              "    <tr>\n",
              "      <th>0</th>\n",
              "      <td>A368Z46FIKHSEZ</td>\n",
              "      <td>5</td>\n",
              "      <td>i love these cookies   not only are they healt...</td>\n",
              "    </tr>\n",
              "    <tr>\n",
              "      <th>1</th>\n",
              "      <td>A1JAPP1CXRG57A</td>\n",
              "      <td>5</td>\n",
              "      <td>quaker soft baked oatmeal cookies with raisins...</td>\n",
              "    </tr>\n",
              "    <tr>\n",
              "      <th>2</th>\n",
              "      <td>A2Z9JNXPIEL2B9</td>\n",
              "      <td>5</td>\n",
              "      <td>i am usually not a huge fan of oatmeal cookies...</td>\n",
              "    </tr>\n",
              "    <tr>\n",
              "      <th>3</th>\n",
              "      <td>A31CYJQO3FL586</td>\n",
              "      <td>5</td>\n",
              "      <td>i participated in a product review that includ...</td>\n",
              "    </tr>\n",
              "    <tr>\n",
              "      <th>4</th>\n",
              "      <td>A2KXQ2EKFF3K2G</td>\n",
              "      <td>5</td>\n",
              "      <td>my kids loved these  i was very pleased to giv...</td>\n",
              "    </tr>\n",
              "  </tbody>\n",
              "</table>\n",
              "</div>"
            ],
            "text/plain": [
              "          user_id  stars                                            reviews\n",
              "0  A368Z46FIKHSEZ      5  i love these cookies   not only are they healt...\n",
              "1  A1JAPP1CXRG57A      5  quaker soft baked oatmeal cookies with raisins...\n",
              "2  A2Z9JNXPIEL2B9      5  i am usually not a huge fan of oatmeal cookies...\n",
              "3  A31CYJQO3FL586      5  i participated in a product review that includ...\n",
              "4  A2KXQ2EKFF3K2G      5  my kids loved these  i was very pleased to giv..."
            ]
          },
          "metadata": {},
          "execution_count": 17
        }
      ]
    },
    {
      "cell_type": "code",
      "metadata": {
        "colab": {
          "base_uri": "https://localhost:8080/",
          "height": 204
        },
        "id": "p6avUY-HUyRU",
        "outputId": "ffa1b189-bc55-41e9-dad8-f5c3899fde10"
      },
      "source": [
        "# Revisão\n",
        "data.iloc[1,2]"
      ],
      "execution_count": null,
      "outputs": [
        {
          "output_type": "execute_result",
          "data": {
            "application/vnd.google.colaboratory.intrinsic+json": {
              "type": "string"
            },
            "text/plain": [
              "'quaker soft baked oatmeal cookies with raisins are a delicious treat  great for anytime of day   for example         at breakfast  i had one with a large banana and a cup of coffee  and felt i d had a relatively  healthy  start to the day         the next day at lunch  following a tuna sandwich  i had one with a glass of milk  and was satisfied enough to not need a snack before dinner at             the following night  after dinner  i had one with the remainder of my glass of wine   delicious   and again  didn t feel the need to snack later in the evening       each cookie is individually packaged  and their texture is soft and moist  with just the right amount of sweetness  natural flavors used in the making are cinnamon and all spice   these flavorings give the cookies a real old fashioned  homemade taste       nutritionally  the cookies have   calories each      saturated fat    mg sodium  and   sugar  they also have   of protein  and contain   of fiber       while the calorie count may seem a bit high for one cookie  they are good sized  and   cookie per serving is certainly enough to satisfy       because of their great taste and texture  kids will probably enjoy them also       if you like oatmeal raisin cookies  give these a try '"
            ]
          },
          "metadata": {},
          "execution_count": 18
        }
      ]
    },
    {
      "cell_type": "code",
      "metadata": {
        "colab": {
          "base_uri": "https://localhost:8080/",
          "height": 206
        },
        "id": "TWkeEUpbUyRV",
        "outputId": "8e4f1168-e45b-4146-9845-8b0c4a930e11"
      },
      "source": [
        "# Tokenize a revisão em palavras\n",
        "from nltk.tokenize import word_tokenize\n",
        "\n",
        "data['tokens'] = data.reviews.map(word_tokenize)\n",
        "data.head()"
      ],
      "execution_count": null,
      "outputs": [
        {
          "output_type": "execute_result",
          "data": {
            "text/html": [
              "<div>\n",
              "<style scoped>\n",
              "    .dataframe tbody tr th:only-of-type {\n",
              "        vertical-align: middle;\n",
              "    }\n",
              "\n",
              "    .dataframe tbody tr th {\n",
              "        vertical-align: top;\n",
              "    }\n",
              "\n",
              "    .dataframe thead th {\n",
              "        text-align: right;\n",
              "    }\n",
              "</style>\n",
              "<table border=\"1\" class=\"dataframe\">\n",
              "  <thead>\n",
              "    <tr style=\"text-align: right;\">\n",
              "      <th></th>\n",
              "      <th>user_id</th>\n",
              "      <th>stars</th>\n",
              "      <th>reviews</th>\n",
              "      <th>tokens</th>\n",
              "    </tr>\n",
              "  </thead>\n",
              "  <tbody>\n",
              "    <tr>\n",
              "      <th>0</th>\n",
              "      <td>A368Z46FIKHSEZ</td>\n",
              "      <td>5</td>\n",
              "      <td>i love these cookies   not only are they healt...</td>\n",
              "      <td>[i, love, these, cookies, not, only, are, they...</td>\n",
              "    </tr>\n",
              "    <tr>\n",
              "      <th>1</th>\n",
              "      <td>A1JAPP1CXRG57A</td>\n",
              "      <td>5</td>\n",
              "      <td>quaker soft baked oatmeal cookies with raisins...</td>\n",
              "      <td>[quaker, soft, baked, oatmeal, cookies, with, ...</td>\n",
              "    </tr>\n",
              "    <tr>\n",
              "      <th>2</th>\n",
              "      <td>A2Z9JNXPIEL2B9</td>\n",
              "      <td>5</td>\n",
              "      <td>i am usually not a huge fan of oatmeal cookies...</td>\n",
              "      <td>[i, am, usually, not, a, huge, fan, of, oatmea...</td>\n",
              "    </tr>\n",
              "    <tr>\n",
              "      <th>3</th>\n",
              "      <td>A31CYJQO3FL586</td>\n",
              "      <td>5</td>\n",
              "      <td>i participated in a product review that includ...</td>\n",
              "      <td>[i, participated, in, a, product, review, that...</td>\n",
              "    </tr>\n",
              "    <tr>\n",
              "      <th>4</th>\n",
              "      <td>A2KXQ2EKFF3K2G</td>\n",
              "      <td>5</td>\n",
              "      <td>my kids loved these  i was very pleased to giv...</td>\n",
              "      <td>[my, kids, loved, these, i, was, very, pleased...</td>\n",
              "    </tr>\n",
              "  </tbody>\n",
              "</table>\n",
              "</div>"
            ],
            "text/plain": [
              "          user_id  ...                                             tokens\n",
              "0  A368Z46FIKHSEZ  ...  [i, love, these, cookies, not, only, are, they...\n",
              "1  A1JAPP1CXRG57A  ...  [quaker, soft, baked, oatmeal, cookies, with, ...\n",
              "2  A2Z9JNXPIEL2B9  ...  [i, am, usually, not, a, huge, fan, of, oatmea...\n",
              "3  A31CYJQO3FL586  ...  [i, participated, in, a, product, review, that...\n",
              "4  A2KXQ2EKFF3K2G  ...  [my, kids, loved, these, i, was, very, pleased...\n",
              "\n",
              "[5 rows x 4 columns]"
            ]
          },
          "metadata": {},
          "execution_count": 21
        }
      ]
    },
    {
      "cell_type": "code",
      "metadata": {
        "colab": {
          "base_uri": "https://localhost:8080/"
        },
        "id": "5pgmzUOZUyRV",
        "outputId": "d0ab5f2c-336f-4e6d-f210-1f79b706df2a"
      },
      "source": [
        "# Essa etapa cria uma grande lista combinando os valores dos tokens \n",
        "word_list = sum(data.tokens.tolist(), [])\n",
        "\n",
        "word_list[:10]"
      ],
      "execution_count": null,
      "outputs": [
        {
          "output_type": "execute_result",
          "data": {
            "text/plain": [
              "['i',\n",
              " 'love',\n",
              " 'these',\n",
              " 'cookies',\n",
              " 'not',\n",
              " 'only',\n",
              " 'are',\n",
              " 'they',\n",
              " 'healthy',\n",
              " 'but']"
            ]
          },
          "metadata": {},
          "execution_count": 22
        }
      ]
    },
    {
      "cell_type": "code",
      "metadata": {
        "colab": {
          "base_uri": "https://localhost:8080/"
        },
        "id": "8pg5bW_NUyRV",
        "outputId": "9c7c3ef4-8133-4df9-8dd3-7a73c756c31e"
      },
      "source": [
        "# Encontrando as palavras mais comuns\n",
        "\n",
        "from collections import Counter\n",
        "\n",
        "# Converte a lista em um dicionário com a contagem dos valores\n",
        "word_counts = Counter(word_list)\n",
        "\n",
        "# Inverte chave/valor no dicionário para ordenar\n",
        "word_counts = list(zip(word_counts.values(), word_counts.keys()))\n",
        "\n",
        "# Ordena a lista por contagem\n",
        "word_counts = sorted(word_counts, reverse=True)\n",
        "\n",
        "# Mostra as 10 palavras mais frequentes\n",
        "word_counts[:10]"
      ],
      "execution_count": null,
      "outputs": [
        {
          "output_type": "execute_result",
          "data": {
            "text/plain": [
              "[(2145, 'i'),\n",
              " (1755, 'and'),\n",
              " (1652, 'the'),\n",
              " (1310, 'a'),\n",
              " (1028, 'it'),\n",
              " (991, 'to'),\n",
              " (845, 'my'),\n",
              " (843, 'cookies'),\n",
              " (842, 'cookie'),\n",
              " (780, 'of')]"
            ]
          },
          "metadata": {},
          "execution_count": 24
        }
      ]
    },
    {
      "cell_type": "code",
      "metadata": {
        "colab": {
          "base_uri": "https://localhost:8080/",
          "height": 321
        },
        "id": "Bz6HiaUTUyRW",
        "outputId": "a25d7bf7-6b4b-4ff8-eaeb-955201940776"
      },
      "source": [
        "# Distribuição do tamanho das palavras\n",
        "word_lengths = pd.Series([len(x) for x in word_list])\n",
        "\n",
        "ax = word_lengths.hist(bins=15)\n",
        "ax.set(xlabel='Word Lengths', ylabel='Frequency', title='Distribution of Word Length');"
      ],
      "execution_count": null,
      "outputs": [
        {
          "output_type": "display_data",
          "data": {
            "image/png": "[encoded data removed]",
            "text/plain": [
              "<Figure size 432x288 with 1 Axes>"
            ]
          },
          "metadata": {
            "needs_background": "light"
          }
        }
      ]
    },
    {
      "cell_type": "markdown",
      "metadata": {
        "id": "5RxSyJHWUyRW"
      },
      "source": [
        "## Mais pré-processamento ##"
      ]
    },
    {
      "cell_type": "markdown",
      "metadata": {
        "id": "9qaVx2KVUyRW"
      },
      "source": [
        "* Aplicando as seguintes técnicas de pré-processamento:\n",
        "\n",
        "     * Remova stopwords\n",
        "     * Faça o reconhecimento de partes do discurso\n",
        "     * Stemização\n",
        "     * Lematização\n",
        "\n",
        "Recomendação: crie uma nova coluna em seu conjunto de dados para cada técnica de pré-processamento que você aplicar, para que possa ver a progressão do texto das revisões."
      ]
    },
    {
      "cell_type": "code",
      "metadata": {
        "colab": {
          "base_uri": "https://localhost:8080/",
          "height": 293
        },
        "id": "G1wykj6QUyRW",
        "outputId": "65ac5333-df53-4712-f95b-6cd46e52ab7e"
      },
      "source": [
        "# Remove stop words\n",
        "from nltk.corpus import stopwords\n",
        "\n",
        "stop_words = stopwords.words('english')\n",
        "\n",
        "stop_lambda = lambda x: [y for y in x if y not in stop_words]\n",
        "data['tokens_stop'] = data.tokens.apply(stop_lambda)\n",
        "data.head()"
      ],
      "execution_count": null,
      "outputs": [
        {
          "output_type": "execute_result",
          "data": {
            "text/html": [
              "<div>\n",
              "<style scoped>\n",
              "    .dataframe tbody tr th:only-of-type {\n",
              "        vertical-align: middle;\n",
              "    }\n",
              "\n",
              "    .dataframe tbody tr th {\n",
              "        vertical-align: top;\n",
              "    }\n",
              "\n",
              "    .dataframe thead th {\n",
              "        text-align: right;\n",
              "    }\n",
              "</style>\n",
              "<table border=\"1\" class=\"dataframe\">\n",
              "  <thead>\n",
              "    <tr style=\"text-align: right;\">\n",
              "      <th></th>\n",
              "      <th>user_id</th>\n",
              "      <th>stars</th>\n",
              "      <th>reviews</th>\n",
              "      <th>tokens</th>\n",
              "      <th>tokens_stop</th>\n",
              "    </tr>\n",
              "  </thead>\n",
              "  <tbody>\n",
              "    <tr>\n",
              "      <th>0</th>\n",
              "      <td>A368Z46FIKHSEZ</td>\n",
              "      <td>5</td>\n",
              "      <td>i love these cookies   not only are they healt...</td>\n",
              "      <td>[i, love, these, cookies, not, only, are, they...</td>\n",
              "      <td>[love, cookies, healthy, taste, great, soft, d...</td>\n",
              "    </tr>\n",
              "    <tr>\n",
              "      <th>1</th>\n",
              "      <td>A1JAPP1CXRG57A</td>\n",
              "      <td>5</td>\n",
              "      <td>quaker soft baked oatmeal cookies with raisins...</td>\n",
              "      <td>[quaker, soft, baked, oatmeal, cookies, with, ...</td>\n",
              "      <td>[quaker, soft, baked, oatmeal, cookies, raisin...</td>\n",
              "    </tr>\n",
              "    <tr>\n",
              "      <th>2</th>\n",
              "      <td>A2Z9JNXPIEL2B9</td>\n",
              "      <td>5</td>\n",
              "      <td>i am usually not a huge fan of oatmeal cookies...</td>\n",
              "      <td>[i, am, usually, not, a, huge, fan, of, oatmea...</td>\n",
              "      <td>[usually, huge, fan, oatmeal, cookies, literal...</td>\n",
              "    </tr>\n",
              "    <tr>\n",
              "      <th>3</th>\n",
              "      <td>A31CYJQO3FL586</td>\n",
              "      <td>5</td>\n",
              "      <td>i participated in a product review that includ...</td>\n",
              "      <td>[i, participated, in, a, product, review, that...</td>\n",
              "      <td>[participated, product, review, included, samp...</td>\n",
              "    </tr>\n",
              "    <tr>\n",
              "      <th>4</th>\n",
              "      <td>A2KXQ2EKFF3K2G</td>\n",
              "      <td>5</td>\n",
              "      <td>my kids loved these  i was very pleased to giv...</td>\n",
              "      <td>[my, kids, loved, these, i, was, very, pleased...</td>\n",
              "      <td>[kids, loved, pleased, give, kids, quick, go, ...</td>\n",
              "    </tr>\n",
              "  </tbody>\n",
              "</table>\n",
              "</div>"
            ],
            "text/plain": [
              "          user_id  ...                                        tokens_stop\n",
              "0  A368Z46FIKHSEZ  ...  [love, cookies, healthy, taste, great, soft, d...\n",
              "1  A1JAPP1CXRG57A  ...  [quaker, soft, baked, oatmeal, cookies, raisin...\n",
              "2  A2Z9JNXPIEL2B9  ...  [usually, huge, fan, oatmeal, cookies, literal...\n",
              "3  A31CYJQO3FL586  ...  [participated, product, review, included, samp...\n",
              "4  A2KXQ2EKFF3K2G  ...  [kids, loved, pleased, give, kids, quick, go, ...\n",
              "\n",
              "[5 rows x 5 columns]"
            ]
          },
          "metadata": {},
          "execution_count": 28
        }
      ]
    },
    {
      "cell_type": "code",
      "metadata": {
        "colab": {
          "base_uri": "https://localhost:8080/",
          "height": 380
        },
        "id": "2MoC-i13UyRX",
        "outputId": "94211bde-6fb4-4c7c-c6eb-359f454a67f4"
      },
      "source": [
        "# Parte do discurso\n",
        "from nltk.tag import pos_tag\n",
        "\n",
        "pos_lambda = lambda x: nltk.pos_tag(x)\n",
        "data['tokens_pos'] = (data.tokens_stop.apply(pos_lambda))\n",
        "data.head()"
      ],
      "execution_count": null,
      "outputs": [
        {
          "output_type": "execute_result",
          "data": {
            "text/html": [
              "<div>\n",
              "<style scoped>\n",
              "    .dataframe tbody tr th:only-of-type {\n",
              "        vertical-align: middle;\n",
              "    }\n",
              "\n",
              "    .dataframe tbody tr th {\n",
              "        vertical-align: top;\n",
              "    }\n",
              "\n",
              "    .dataframe thead th {\n",
              "        text-align: right;\n",
              "    }\n",
              "</style>\n",
              "<table border=\"1\" class=\"dataframe\">\n",
              "  <thead>\n",
              "    <tr style=\"text-align: right;\">\n",
              "      <th></th>\n",
              "      <th>user_id</th>\n",
              "      <th>stars</th>\n",
              "      <th>reviews</th>\n",
              "      <th>tokens</th>\n",
              "      <th>tokens_stop</th>\n",
              "      <th>tokens_pos</th>\n",
              "    </tr>\n",
              "  </thead>\n",
              "  <tbody>\n",
              "    <tr>\n",
              "      <th>0</th>\n",
              "      <td>A368Z46FIKHSEZ</td>\n",
              "      <td>5</td>\n",
              "      <td>i love these cookies   not only are they healt...</td>\n",
              "      <td>[i, love, these, cookies, not, only, are, they...</td>\n",
              "      <td>[love, cookies, healthy, taste, great, soft, d...</td>\n",
              "      <td>[(love, VB), (cookies, NNS), (healthy, JJ), (t...</td>\n",
              "    </tr>\n",
              "    <tr>\n",
              "      <th>1</th>\n",
              "      <td>A1JAPP1CXRG57A</td>\n",
              "      <td>5</td>\n",
              "      <td>quaker soft baked oatmeal cookies with raisins...</td>\n",
              "      <td>[quaker, soft, baked, oatmeal, cookies, with, ...</td>\n",
              "      <td>[quaker, soft, baked, oatmeal, cookies, raisin...</td>\n",
              "      <td>[(quaker, NN), (soft, JJ), (baked, VBD), (oatm...</td>\n",
              "    </tr>\n",
              "    <tr>\n",
              "      <th>2</th>\n",
              "      <td>A2Z9JNXPIEL2B9</td>\n",
              "      <td>5</td>\n",
              "      <td>i am usually not a huge fan of oatmeal cookies...</td>\n",
              "      <td>[i, am, usually, not, a, huge, fan, of, oatmea...</td>\n",
              "      <td>[usually, huge, fan, oatmeal, cookies, literal...</td>\n",
              "      <td>[(usually, RB), (huge, JJ), (fan, NN), (oatmea...</td>\n",
              "    </tr>\n",
              "    <tr>\n",
              "      <th>3</th>\n",
              "      <td>A31CYJQO3FL586</td>\n",
              "      <td>5</td>\n",
              "      <td>i participated in a product review that includ...</td>\n",
              "      <td>[i, participated, in, a, product, review, that...</td>\n",
              "      <td>[participated, product, review, included, samp...</td>\n",
              "      <td>[(participated, JJ), (product, NN), (review, N...</td>\n",
              "    </tr>\n",
              "    <tr>\n",
              "      <th>4</th>\n",
              "      <td>A2KXQ2EKFF3K2G</td>\n",
              "      <td>5</td>\n",
              "      <td>my kids loved these  i was very pleased to giv...</td>\n",
              "      <td>[my, kids, loved, these, i, was, very, pleased...</td>\n",
              "      <td>[kids, loved, pleased, give, kids, quick, go, ...</td>\n",
              "      <td>[(kids, NNS), (loved, VBD), (pleased, JJ), (gi...</td>\n",
              "    </tr>\n",
              "  </tbody>\n",
              "</table>\n",
              "</div>"
            ],
            "text/plain": [
              "          user_id  ...                                         tokens_pos\n",
              "0  A368Z46FIKHSEZ  ...  [(love, VB), (cookies, NNS), (healthy, JJ), (t...\n",
              "1  A1JAPP1CXRG57A  ...  [(quaker, NN), (soft, JJ), (baked, VBD), (oatm...\n",
              "2  A2Z9JNXPIEL2B9  ...  [(usually, RB), (huge, JJ), (fan, NN), (oatmea...\n",
              "3  A31CYJQO3FL586  ...  [(participated, JJ), (product, NN), (review, N...\n",
              "4  A2KXQ2EKFF3K2G  ...  [(kids, NNS), (loved, VBD), (pleased, JJ), (gi...\n",
              "\n",
              "[5 rows x 6 columns]"
            ]
          },
          "metadata": {},
          "execution_count": 31
        }
      ]
    },
    {
      "cell_type": "code",
      "metadata": {
        "colab": {
          "base_uri": "https://localhost:8080/",
          "height": 432
        },
        "id": "t-Pa4EpPUyRX",
        "outputId": "b286a3aa-4dff-4979-9439-7355c818d95a"
      },
      "source": [
        "# Stemização\n",
        "from nltk.stem import SnowballStemmer\n",
        "\n",
        "stemmer = SnowballStemmer('english')\n",
        "stem_lambda = lambda x: [stemmer.stem(y) for y in x]\n",
        "\n",
        "data['tokens_stem'] = data.tokens_stop.apply(stem_lambda)\n",
        "data.head()"
      ],
      "execution_count": null,
      "outputs": [
        {
          "output_type": "execute_result",
          "data": {
            "text/html": [
              "<div>\n",
              "<style scoped>\n",
              "    .dataframe tbody tr th:only-of-type {\n",
              "        vertical-align: middle;\n",
              "    }\n",
              "\n",
              "    .dataframe tbody tr th {\n",
              "        vertical-align: top;\n",
              "    }\n",
              "\n",
              "    .dataframe thead th {\n",
              "        text-align: right;\n",
              "    }\n",
              "</style>\n",
              "<table border=\"1\" class=\"dataframe\">\n",
              "  <thead>\n",
              "    <tr style=\"text-align: right;\">\n",
              "      <th></th>\n",
              "      <th>user_id</th>\n",
              "      <th>stars</th>\n",
              "      <th>reviews</th>\n",
              "      <th>tokens</th>\n",
              "      <th>tokens_stop</th>\n",
              "      <th>tokens_pos</th>\n",
              "      <th>tokens_stem</th>\n",
              "    </tr>\n",
              "  </thead>\n",
              "  <tbody>\n",
              "    <tr>\n",
              "      <th>0</th>\n",
              "      <td>A368Z46FIKHSEZ</td>\n",
              "      <td>5</td>\n",
              "      <td>i love these cookies   not only are they healt...</td>\n",
              "      <td>[i, love, these, cookies, not, only, are, they...</td>\n",
              "      <td>[love, cookies, healthy, taste, great, soft, d...</td>\n",
              "      <td>[(love, VB), (cookies, NNS), (healthy, JJ), (t...</td>\n",
              "      <td>[love, cooki, healthi, tast, great, soft, defi...</td>\n",
              "    </tr>\n",
              "    <tr>\n",
              "      <th>1</th>\n",
              "      <td>A1JAPP1CXRG57A</td>\n",
              "      <td>5</td>\n",
              "      <td>quaker soft baked oatmeal cookies with raisins...</td>\n",
              "      <td>[quaker, soft, baked, oatmeal, cookies, with, ...</td>\n",
              "      <td>[quaker, soft, baked, oatmeal, cookies, raisin...</td>\n",
              "      <td>[(quaker, NN), (soft, JJ), (baked, VBD), (oatm...</td>\n",
              "      <td>[quaker, soft, bake, oatmeal, cooki, raisin, d...</td>\n",
              "    </tr>\n",
              "    <tr>\n",
              "      <th>2</th>\n",
              "      <td>A2Z9JNXPIEL2B9</td>\n",
              "      <td>5</td>\n",
              "      <td>i am usually not a huge fan of oatmeal cookies...</td>\n",
              "      <td>[i, am, usually, not, a, huge, fan, of, oatmea...</td>\n",
              "      <td>[usually, huge, fan, oatmeal, cookies, literal...</td>\n",
              "      <td>[(usually, RB), (huge, JJ), (fan, NN), (oatmea...</td>\n",
              "      <td>[usual, huge, fan, oatmeal, cooki, liter, melt...</td>\n",
              "    </tr>\n",
              "    <tr>\n",
              "      <th>3</th>\n",
              "      <td>A31CYJQO3FL586</td>\n",
              "      <td>5</td>\n",
              "      <td>i participated in a product review that includ...</td>\n",
              "      <td>[i, participated, in, a, product, review, that...</td>\n",
              "      <td>[participated, product, review, included, samp...</td>\n",
              "      <td>[(participated, JJ), (product, NN), (review, N...</td>\n",
              "      <td>[particip, product, review, includ, sampl, hre...</td>\n",
              "    </tr>\n",
              "    <tr>\n",
              "      <th>4</th>\n",
              "      <td>A2KXQ2EKFF3K2G</td>\n",
              "      <td>5</td>\n",
              "      <td>my kids loved these  i was very pleased to giv...</td>\n",
              "      <td>[my, kids, loved, these, i, was, very, pleased...</td>\n",
              "      <td>[kids, loved, pleased, give, kids, quick, go, ...</td>\n",
              "      <td>[(kids, NNS), (loved, VBD), (pleased, JJ), (gi...</td>\n",
              "      <td>[kid, love, pleas, give, kid, quick, go, healt...</td>\n",
              "    </tr>\n",
              "  </tbody>\n",
              "</table>\n",
              "</div>"
            ],
            "text/plain": [
              "          user_id  ...                                        tokens_stem\n",
              "0  A368Z46FIKHSEZ  ...  [love, cooki, healthi, tast, great, soft, defi...\n",
              "1  A1JAPP1CXRG57A  ...  [quaker, soft, bake, oatmeal, cooki, raisin, d...\n",
              "2  A2Z9JNXPIEL2B9  ...  [usual, huge, fan, oatmeal, cooki, liter, melt...\n",
              "3  A31CYJQO3FL586  ...  [particip, product, review, includ, sampl, hre...\n",
              "4  A2KXQ2EKFF3K2G  ...  [kid, love, pleas, give, kid, quick, go, healt...\n",
              "\n",
              "[5 rows x 7 columns]"
            ]
          },
          "metadata": {},
          "execution_count": 32
        }
      ]
    },
    {
      "cell_type": "code",
      "metadata": {
        "colab": {
          "base_uri": "https://localhost:8080/",
          "height": 508
        },
        "id": "CKz1Gt54UyRY",
        "outputId": "1f136365-3007-42cd-999a-0e0362f264be"
      },
      "source": [
        "# Lematização\n",
        "from nltk.corpus import wordnet\n",
        "from nltk.stem.wordnet import WordNetLemmatizer\n",
        "\n",
        "# Convert the naming scheme to one that is recognized by WordNet\n",
        "def get_wordnet_pos(treebank_tag):\n",
        "    if treebank_tag.startswith('J'):\n",
        "        return wordnet.ADJ\n",
        "    elif treebank_tag.startswith('V'):\n",
        "        return wordnet.VERB\n",
        "    elif treebank_tag.startswith('N'):\n",
        "        return wordnet.NOUN\n",
        "    elif treebank_tag.startswith('R'):\n",
        "        return wordnet.ADV\n",
        "    else:\n",
        "        return wordnet.NOUN\n",
        "\n",
        "lemmatizer = WordNetLemmatizer()\n",
        "lemmatizer_fun = lambda x: lemmatizer.lemmatize(*x)\n",
        "data['tokens_lemma'] = data.tokens_pos\\\n",
        "                        .apply(lambda x: [(y[0], get_wordnet_pos(y[1])) for y in x])\\\n",
        "                        .apply(lambda x: [lemmatizer_fun(y) for y in x])\n",
        "\n",
        "\n",
        "data.head().T"
      ],
      "execution_count": null,
      "outputs": [
        {
          "output_type": "execute_result",
          "data": {
            "text/html": [
              "<div>\n",
              "<style scoped>\n",
              "    .dataframe tbody tr th:only-of-type {\n",
              "        vertical-align: middle;\n",
              "    }\n",
              "\n",
              "    .dataframe tbody tr th {\n",
              "        vertical-align: top;\n",
              "    }\n",
              "\n",
              "    .dataframe thead th {\n",
              "        text-align: right;\n",
              "    }\n",
              "</style>\n",
              "<table border=\"1\" class=\"dataframe\">\n",
              "  <thead>\n",
              "    <tr style=\"text-align: right;\">\n",
              "      <th></th>\n",
              "      <th>0</th>\n",
              "      <th>1</th>\n",
              "      <th>2</th>\n",
              "      <th>3</th>\n",
              "      <th>4</th>\n",
              "    </tr>\n",
              "  </thead>\n",
              "  <tbody>\n",
              "    <tr>\n",
              "      <th>user_id</th>\n",
              "      <td>A368Z46FIKHSEZ</td>\n",
              "      <td>A1JAPP1CXRG57A</td>\n",
              "      <td>A2Z9JNXPIEL2B9</td>\n",
              "      <td>A31CYJQO3FL586</td>\n",
              "      <td>A2KXQ2EKFF3K2G</td>\n",
              "    </tr>\n",
              "    <tr>\n",
              "      <th>stars</th>\n",
              "      <td>5</td>\n",
              "      <td>5</td>\n",
              "      <td>5</td>\n",
              "      <td>5</td>\n",
              "      <td>5</td>\n",
              "    </tr>\n",
              "    <tr>\n",
              "      <th>reviews</th>\n",
              "      <td>i love these cookies   not only are they healt...</td>\n",
              "      <td>quaker soft baked oatmeal cookies with raisins...</td>\n",
              "      <td>i am usually not a huge fan of oatmeal cookies...</td>\n",
              "      <td>i participated in a product review that includ...</td>\n",
              "      <td>my kids loved these  i was very pleased to giv...</td>\n",
              "    </tr>\n",
              "    <tr>\n",
              "      <th>tokens</th>\n",
              "      <td>[i, love, these, cookies, not, only, are, they...</td>\n",
              "      <td>[quaker, soft, baked, oatmeal, cookies, with, ...</td>\n",
              "      <td>[i, am, usually, not, a, huge, fan, of, oatmea...</td>\n",
              "      <td>[i, participated, in, a, product, review, that...</td>\n",
              "      <td>[my, kids, loved, these, i, was, very, pleased...</td>\n",
              "    </tr>\n",
              "    <tr>\n",
              "      <th>tokens_stop</th>\n",
              "      <td>[love, cookies, healthy, taste, great, soft, d...</td>\n",
              "      <td>[quaker, soft, baked, oatmeal, cookies, raisin...</td>\n",
              "      <td>[usually, huge, fan, oatmeal, cookies, literal...</td>\n",
              "      <td>[participated, product, review, included, samp...</td>\n",
              "      <td>[kids, loved, pleased, give, kids, quick, go, ...</td>\n",
              "    </tr>\n",
              "    <tr>\n",
              "      <th>tokens_pos</th>\n",
              "      <td>[(love, VB), (cookies, NNS), (healthy, JJ), (t...</td>\n",
              "      <td>[(quaker, NN), (soft, JJ), (baked, VBD), (oatm...</td>\n",
              "      <td>[(usually, RB), (huge, JJ), (fan, NN), (oatmea...</td>\n",
              "      <td>[(participated, JJ), (product, NN), (review, N...</td>\n",
              "      <td>[(kids, NNS), (loved, VBD), (pleased, JJ), (gi...</td>\n",
              "    </tr>\n",
              "    <tr>\n",
              "      <th>tokens_stem</th>\n",
              "      <td>[love, cooki, healthi, tast, great, soft, defi...</td>\n",
              "      <td>[quaker, soft, bake, oatmeal, cooki, raisin, d...</td>\n",
              "      <td>[usual, huge, fan, oatmeal, cooki, liter, melt...</td>\n",
              "      <td>[particip, product, review, includ, sampl, hre...</td>\n",
              "      <td>[kid, love, pleas, give, kid, quick, go, healt...</td>\n",
              "    </tr>\n",
              "    <tr>\n",
              "      <th>tokens_lemma</th>\n",
              "      <td>[love, cooky, healthy, taste, great, soft, def...</td>\n",
              "      <td>[quaker, soft, bake, oatmeal, cooky, raisins, ...</td>\n",
              "      <td>[usually, huge, fan, oatmeal, cooky, literally...</td>\n",
              "      <td>[participated, product, review, include, sampl...</td>\n",
              "      <td>[kid, love, pleased, give, kid, quick, go, hea...</td>\n",
              "    </tr>\n",
              "  </tbody>\n",
              "</table>\n",
              "</div>"
            ],
            "text/plain": [
              "                                                              0  ...                                                  4\n",
              "user_id                                          A368Z46FIKHSEZ  ...                                     A2KXQ2EKFF3K2G\n",
              "stars                                                         5  ...                                                  5\n",
              "reviews       i love these cookies   not only are they healt...  ...  my kids loved these  i was very pleased to giv...\n",
              "tokens        [i, love, these, cookies, not, only, are, they...  ...  [my, kids, loved, these, i, was, very, pleased...\n",
              "tokens_stop   [love, cookies, healthy, taste, great, soft, d...  ...  [kids, loved, pleased, give, kids, quick, go, ...\n",
              "tokens_pos    [(love, VB), (cookies, NNS), (healthy, JJ), (t...  ...  [(kids, NNS), (loved, VBD), (pleased, JJ), (gi...\n",
              "tokens_stem   [love, cooki, healthi, tast, great, soft, defi...  ...  [kid, love, pleas, give, kid, quick, go, healt...\n",
              "tokens_lemma  [love, cooky, healthy, taste, great, soft, def...  ...  [kid, love, pleased, give, kid, quick, go, hea...\n",
              "\n",
              "[8 rows x 5 columns]"
            ]
          },
          "metadata": {},
          "execution_count": 38
        }
      ]
    },
    {
      "cell_type": "markdown",
      "metadata": {
        "id": "nZ29EHePUyRY"
      },
      "source": [
        "* Depois de passar por essas etapas de pré-processamento, quais são os mais palavras comuns agora? Eles fazem mais sentido?"
      ]
    },
    {
      "cell_type": "code",
      "metadata": {
        "colab": {
          "base_uri": "https://localhost:8080/"
        },
        "id": "M3eCBbuVUyRZ",
        "outputId": "fdbbdcde-1899-4735-d6a7-a83594e6c485"
      },
      "source": [
        "# Vamos encontrar as palavras mais comuns após limpar os dados\n",
        "\n",
        "# Isso cria uma lista enorme, combinando todos os valores de tokens\n",
        "word_list_clean = sum(data.tokens_stem.tolist(), [])\n",
        "\n",
        "word_list_clean[:10]"
      ],
      "execution_count": null,
      "outputs": [
        {
          "output_type": "execute_result",
          "data": {
            "text/plain": [
              "['love',\n",
              " 'cooki',\n",
              " 'healthi',\n",
              " 'tast',\n",
              " 'great',\n",
              " 'soft',\n",
              " 'definit',\n",
              " 'add',\n",
              " 'groceri',\n",
              " 'list']"
            ]
          },
          "metadata": {},
          "execution_count": 39
        }
      ]
    },
    {
      "cell_type": "code",
      "metadata": {
        "colab": {
          "base_uri": "https://localhost:8080/"
        },
        "id": "gTmPTFVgUyRZ",
        "outputId": "c689f4a4-3f70-431b-a750-e0d06be2568c"
      },
      "source": [
        "from collections import Counter\n",
        "\n",
        "# Converts list to a dictionary with value counts\n",
        "word_counts_clean = Counter(word_list_clean)\n",
        "\n",
        "# Reverse the key/values in the dictionary for sorting\n",
        "word_counts_clean = list(zip(word_counts_clean.values(), word_counts_clean.keys()))\n",
        "\n",
        "# Sort the list by count\n",
        "word_counts_clean = sorted(word_counts_clean, reverse=True)\n",
        "\n",
        "# Prints the 10 most commons words\n",
        "word_counts_clean[:10]"
      ],
      "execution_count": null,
      "outputs": [
        {
          "output_type": "execute_result",
          "data": {
            "text/plain": [
              "[(1686, 'cooki'),\n",
              " (713, 'soft'),\n",
              " (559, 'love'),\n",
              " (482, 'oatmeal'),\n",
              " (416, 'tast'),\n",
              " (378, 'raisin'),\n",
              " (366, 'like'),\n",
              " (366, 'good'),\n",
              " (347, 'quaker'),\n",
              " (302, 'tri')]"
            ]
          },
          "metadata": {},
          "execution_count": 40
        }
      ]
    },
    {
      "cell_type": "markdown",
      "metadata": {
        "id": "7LRQudT7UyRZ"
      },
      "source": [
        "Essas novas 10 palavras principais fazem muito mais sentido e nos dão uma boa ideia do que trata o corpus. Só de olhar para essas 10 palavras principais, você pode dizer que o corpus lida com deliciosos biscoitos de aveia!"
      ]
    },
    {
      "cell_type": "markdown",
      "metadata": {
        "id": "0uyA0nl-ZLJN"
      },
      "source": [
        "## Análise de sentimentos"
      ]
    },
    {
      "cell_type": "markdown",
      "metadata": {
        "id": "QcnHtHOwZJym"
      },
      "source": [
        "Crie um novo conjunto de dados para modelagem com as seguintes colunas:\n",
        "     - Coluna 1: 'positivo' se revisão = 4 ou 5 e 'negativo' se revisão = 1 ou 2\n",
        "     - Coluna 2: texto de revisão\n",
        "* Dê uma olhada no número de avaliações positivas e negativas no conjunto de dados recém-criado.\n",
        "\n",
        "Use o código de pré-processamento abaixo para limpar os dados das revisões antes de prosseguir para a modelagem."
      ]
    },
    {
      "cell_type": "code",
      "metadata": {
        "colab": {
          "base_uri": "https://localhost:8080/",
          "height": 206
        },
        "id": "SG3atmlBZKcG",
        "outputId": "52ffdcb2-c013-43f0-dcc0-6fe9d6d6a090"
      },
      "source": [
        "import numpy as np\n",
        "\n",
        "# Remove 3 star reviews\n",
        "data = data[data.stars!=3]\n",
        "\n",
        "# Set 4/5 star reviews to positive, the rest to negative\n",
        "data['sentiment'] = np.where(data['stars'] >= 4, 'positive', 'negative')\n",
        "\n",
        "# Include only the sentiment and reviews columns\n",
        "data = data[['sentiment', 'reviews']]\n",
        "data.head()"
      ],
      "execution_count": null,
      "outputs": [
        {
          "output_type": "execute_result",
          "data": {
            "text/html": [
              "<div>\n",
              "<style scoped>\n",
              "    .dataframe tbody tr th:only-of-type {\n",
              "        vertical-align: middle;\n",
              "    }\n",
              "\n",
              "    .dataframe tbody tr th {\n",
              "        vertical-align: top;\n",
              "    }\n",
              "\n",
              "    .dataframe thead th {\n",
              "        text-align: right;\n",
              "    }\n",
              "</style>\n",
              "<table border=\"1\" class=\"dataframe\">\n",
              "  <thead>\n",
              "    <tr style=\"text-align: right;\">\n",
              "      <th></th>\n",
              "      <th>sentiment</th>\n",
              "      <th>reviews</th>\n",
              "    </tr>\n",
              "  </thead>\n",
              "  <tbody>\n",
              "    <tr>\n",
              "      <th>0</th>\n",
              "      <td>positive</td>\n",
              "      <td>i love these cookies   not only are they healt...</td>\n",
              "    </tr>\n",
              "    <tr>\n",
              "      <th>1</th>\n",
              "      <td>positive</td>\n",
              "      <td>quaker soft baked oatmeal cookies with raisins...</td>\n",
              "    </tr>\n",
              "    <tr>\n",
              "      <th>2</th>\n",
              "      <td>positive</td>\n",
              "      <td>i am usually not a huge fan of oatmeal cookies...</td>\n",
              "    </tr>\n",
              "    <tr>\n",
              "      <th>3</th>\n",
              "      <td>positive</td>\n",
              "      <td>i participated in a product review that includ...</td>\n",
              "    </tr>\n",
              "    <tr>\n",
              "      <th>4</th>\n",
              "      <td>positive</td>\n",
              "      <td>my kids loved these  i was very pleased to giv...</td>\n",
              "    </tr>\n",
              "  </tbody>\n",
              "</table>\n",
              "</div>"
            ],
            "text/plain": [
              "  sentiment                                            reviews\n",
              "0  positive  i love these cookies   not only are they healt...\n",
              "1  positive  quaker soft baked oatmeal cookies with raisins...\n",
              "2  positive  i am usually not a huge fan of oatmeal cookies...\n",
              "3  positive  i participated in a product review that includ...\n",
              "4  positive  my kids loved these  i was very pleased to giv..."
            ]
          },
          "metadata": {},
          "execution_count": 41
        }
      ]
    },
    {
      "cell_type": "code",
      "metadata": {
        "colab": {
          "base_uri": "https://localhost:8080/"
        },
        "id": "hWzeBTDPZW-C",
        "outputId": "df9180b2-16cb-4aca-a627-4edf18aad66b"
      },
      "source": [
        "# Note that the dataset has mostly positive reviews\n",
        "data.sentiment.value_counts(normalize=True)"
      ],
      "execution_count": null,
      "outputs": [
        {
          "output_type": "execute_result",
          "data": {
            "text/plain": [
              "positive    0.98133\n",
              "negative    0.01867\n",
              "Name: sentiment, dtype: float64"
            ]
          },
          "metadata": {},
          "execution_count": 42
        }
      ]
    },
    {
      "cell_type": "code",
      "metadata": {
        "id": "YqD3PITOZfs6"
      },
      "source": [
        ""
      ],
      "execution_count": null,
      "outputs": []
    },
    {
      "cell_type": "markdown",
      "metadata": {
        "id": "hVW77mq-a3XU"
      },
      "source": [
        "Prepare os dados para modelagem:\n",
        "* Divida os dados em conjuntos de treinamento e teste. Você deve ter quatro conjuntos de dados - X_train, X_test, y_train, y_test\n",
        "\n",
        "Crie recursos numéricos com Count Vectorizer. Crie duas matrizes de termo de documento:\n",
        "* Matriz 1: os termos devem ser unigramas (palavras simples) e os valores devem ser contagens de palavras (Dica: este é o padrão do vetorizador de contagem)\n",
        "* Matriz 2: os termos devem ser unigramas e bigramas, e os valores devem ser valores binários\n",
        "\n",
        "Recomendação: Utilize a função de palavras irrelevantes do Count Vectorizer para remover palavras irrelevantes do texto de comentários."
      ]
    },
    {
      "cell_type": "code",
      "metadata": {
        "id": "lifNnE6Na31e"
      },
      "source": [
        "# Split the data into X and y data sets\n",
        "X = data.reviews\n",
        "y = data.sentiment"
      ],
      "execution_count": null,
      "outputs": []
    },
    {
      "cell_type": "code",
      "metadata": {
        "id": "BJL_S1Psa9jc"
      },
      "source": [
        "# Split the data into training and test sets\n",
        "from sklearn.model_selection import train_test_split\n",
        "X_train, X_test, y_train, y_test = train_test_split(X, y, test_size=0.3, random_state=42)"
      ],
      "execution_count": null,
      "outputs": []
    },
    {
      "cell_type": "code",
      "metadata": {
        "colab": {
          "base_uri": "https://localhost:8080/"
        },
        "id": "dZsUxHBsa__c",
        "outputId": "140a976a-5fc9-4710-d1ae-43659e2cdf54"
      },
      "source": [
        "# Number of reviews in the training set\n",
        "X_train.shape, y_train.shape"
      ],
      "execution_count": null,
      "outputs": [
        {
          "output_type": "execute_result",
          "data": {
            "text/plain": [
              "((599,), (599,))"
            ]
          },
          "metadata": {},
          "execution_count": 45
        }
      ]
    },
    {
      "cell_type": "code",
      "metadata": {
        "colab": {
          "base_uri": "https://localhost:8080/"
        },
        "id": "MMk4CgGvbB_d",
        "outputId": "d15b9e61-c7e5-4a8f-9740-0c3bd90fea02"
      },
      "source": [
        "# Number of reviews in the test set\n",
        "X_test.shape, y_test.shape"
      ],
      "execution_count": null,
      "outputs": [
        {
          "output_type": "execute_result",
          "data": {
            "text/plain": [
              "((258,), (258,))"
            ]
          },
          "metadata": {},
          "execution_count": 46
        }
      ]
    },
    {
      "cell_type": "code",
      "metadata": {
        "colab": {
          "base_uri": "https://localhost:8080/"
        },
        "id": "ZD9bvgYfbE7Y",
        "outputId": "2392047f-0296-4613-d0b8-ea0cf8303592"
      },
      "source": [
        "# The first document-term matrix has default Count Vectorizer values - counts of unigrams\n",
        "from sklearn.feature_extraction.text import CountVectorizer\n",
        "\n",
        "cv1 = CountVectorizer(stop_words='english')\n",
        "\n",
        "X_train_cv1 = cv1.fit_transform(X_train)\n",
        "X_test_cv1  = cv1.transform(X_test)\n",
        "\n",
        "print(X_train_cv1.toarray().shape)"
      ],
      "execution_count": null,
      "outputs": [
        {
          "output_type": "stream",
          "name": "stdout",
          "text": [
            "(599, 1818)\n"
          ]
        }
      ]
    },
    {
      "cell_type": "code",
      "metadata": {
        "colab": {
          "base_uri": "https://localhost:8080/"
        },
        "id": "TWJQuGRMcWSg",
        "outputId": "133eb26c-5f47-47b7-d467-1c8f95b74a32"
      },
      "source": [
        "print(X_train_cv1)"
      ],
      "execution_count": null,
      "outputs": [
        {
          "output_type": "stream",
          "name": "stdout",
          "text": [
            "  (0, 112)\t1\n",
            "  (0, 116)\t1\n",
            "  (0, 186)\t1\n",
            "  (0, 323)\t1\n",
            "  (0, 325)\t1\n",
            "  (0, 355)\t1\n",
            "  (0, 392)\t2\n",
            "  (0, 506)\t1\n",
            "  (0, 650)\t1\n",
            "  (0, 737)\t1\n",
            "  (0, 886)\t1\n",
            "  (0, 888)\t1\n",
            "  (0, 902)\t1\n",
            "  (0, 934)\t1\n",
            "  (0, 1052)\t1\n",
            "  (0, 1166)\t1\n",
            "  (0, 1248)\t1\n",
            "  (0, 1264)\t1\n",
            "  (0, 1460)\t2\n",
            "  (0, 1549)\t1\n",
            "  (0, 1616)\t1\n",
            "  (0, 1673)\t1\n",
            "  (0, 1707)\t1\n",
            "  (1, 111)\t1\n",
            "  (1, 138)\t1\n",
            "  :\t:\n",
            "  (598, 1052)\t3\n",
            "  (598, 1054)\t1\n",
            "  (598, 1057)\t1\n",
            "  (598, 1095)\t1\n",
            "  (598, 1114)\t1\n",
            "  (598, 1155)\t1\n",
            "  (598, 1210)\t1\n",
            "  (598, 1221)\t1\n",
            "  (598, 1223)\t1\n",
            "  (598, 1248)\t1\n",
            "  (598, 1251)\t1\n",
            "  (598, 1262)\t2\n",
            "  (598, 1264)\t1\n",
            "  (598, 1442)\t1\n",
            "  (598, 1460)\t1\n",
            "  (598, 1516)\t1\n",
            "  (598, 1519)\t1\n",
            "  (598, 1520)\t1\n",
            "  (598, 1551)\t1\n",
            "  (598, 1570)\t1\n",
            "  (598, 1573)\t1\n",
            "  (598, 1632)\t1\n",
            "  (598, 1641)\t1\n",
            "  (598, 1735)\t1\n",
            "  (598, 1754)\t1\n"
          ]
        }
      ]
    },
    {
      "cell_type": "code",
      "metadata": {
        "colab": {
          "base_uri": "https://localhost:8080/"
        },
        "id": "sjoGuy1QbHdr",
        "outputId": "0a064456-0f68-4136-8704-5d45d863536d"
      },
      "source": [
        "# The second document-term matrix has both unigrams and bigrams, and indicators instead of counts\n",
        "cv2 = CountVectorizer(ngram_range=(1,2), binary=True, stop_words='english')\n",
        "\n",
        "X_train_cv2 = cv2.fit_transform(X_train)\n",
        "X_test_cv2  = cv2.transform(X_test)\n",
        "\n",
        "print(X_train_cv2.toarray().shape)"
      ],
      "execution_count": null,
      "outputs": [
        {
          "output_type": "stream",
          "name": "stdout",
          "text": [
            "(599, 10136)\n"
          ]
        }
      ]
    },
    {
      "cell_type": "code",
      "metadata": {
        "colab": {
          "base_uri": "https://localhost:8080/"
        },
        "id": "tIdd8diScjpN",
        "outputId": "eb4248cb-4aa3-42ec-80d4-d2472982ed6f"
      },
      "source": [
        "print(X_train_cv2)"
      ],
      "execution_count": null,
      "outputs": [
        {
          "output_type": "stream",
          "name": "stdout",
          "text": [
            "  (0, 435)\t1\n",
            "  (0, 458)\t1\n",
            "  (0, 481)\t1\n",
            "  (0, 489)\t1\n",
            "  (0, 935)\t1\n",
            "  (0, 936)\t1\n",
            "  (0, 1548)\t1\n",
            "  (0, 1628)\t1\n",
            "  (0, 1776)\t1\n",
            "  (0, 1815)\t1\n",
            "  (0, 2109)\t1\n",
            "  (0, 2115)\t1\n",
            "  (0, 2297)\t1\n",
            "  (0, 2333)\t1\n",
            "  (0, 2363)\t1\n",
            "  (0, 2926)\t1\n",
            "  (0, 2929)\t1\n",
            "  (0, 3656)\t1\n",
            "  (0, 3761)\t1\n",
            "  (0, 4272)\t1\n",
            "  (0, 4274)\t1\n",
            "  (0, 5065)\t1\n",
            "  (0, 5066)\t1\n",
            "  (0, 5069)\t1\n",
            "  (0, 5086)\t1\n",
            "  :\t:\n",
            "  (598, 7258)\t1\n",
            "  (598, 8060)\t1\n",
            "  (598, 8061)\t1\n",
            "  (598, 8199)\t1\n",
            "  (598, 8286)\t1\n",
            "  (598, 8505)\t1\n",
            "  (598, 8506)\t1\n",
            "  (598, 8529)\t1\n",
            "  (598, 8531)\t1\n",
            "  (598, 8532)\t1\n",
            "  (598, 8533)\t1\n",
            "  (598, 8663)\t1\n",
            "  (598, 8664)\t1\n",
            "  (598, 8768)\t1\n",
            "  (598, 8841)\t1\n",
            "  (598, 8874)\t1\n",
            "  (598, 8882)\t1\n",
            "  (598, 9229)\t1\n",
            "  (598, 9230)\t1\n",
            "  (598, 9255)\t1\n",
            "  (598, 9256)\t1\n",
            "  (598, 9742)\t1\n",
            "  (598, 9744)\t1\n",
            "  (598, 9853)\t1\n",
            "  (598, 9854)\t1\n"
          ]
        }
      ]
    },
    {
      "cell_type": "markdown",
      "metadata": {
        "id": "lp2PHAqjbTgM"
      },
      "source": [
        "Use a regressão logística para classificar as avaliações como positivas ou negativas. Faça isso para ambas as matrizes.\n",
        "* Ajustar um modelo de regressão logística nos dados de treinamento\n",
        "* Aplique o modelo nos dados de teste e calcule as seguintes métricas de erro: acurácia, precisão, recuperação (recall), pontuação F1\n",
        "* Opcional: Visualize a matriz de confusão para ambos os modelos\n",
        "* Compare as métricas de erro das duas matrizes\n",
        "\n",
        "Recomendação: crie uma função para calcular as métricas de erro, já que você fará isso várias vezes."
      ]
    },
    {
      "cell_type": "code",
      "metadata": {
        "id": "IFEyDIiWbJiK"
      },
      "source": [
        "# Create a logistic regression model to use\n",
        "from sklearn.linear_model import LogisticRegression\n",
        "lr = LogisticRegression()"
      ],
      "execution_count": null,
      "outputs": []
    },
    {
      "cell_type": "code",
      "metadata": {
        "id": "RL2jAACubVrP"
      },
      "source": [
        "# Train the first model\n",
        "lr.fit(X_train_cv1, y_train)\n",
        "y_pred_cv1 = lr.predict(X_test_cv1)"
      ],
      "execution_count": null,
      "outputs": []
    },
    {
      "cell_type": "code",
      "metadata": {
        "id": "KH8OwNXebW2V"
      },
      "source": [
        "# Train the second model\n",
        "lr.fit(X_train_cv2, y_train)\n",
        "y_pred_cv2 = lr.predict(X_test_cv2)"
      ],
      "execution_count": null,
      "outputs": []
    },
    {
      "cell_type": "code",
      "metadata": {
        "id": "-i21H5SNbYHj"
      },
      "source": [
        "# Create a function to calculate the error metrics, since we'll be doing this several times\n",
        "from sklearn.metrics import confusion_matrix\n",
        "import matplotlib.pyplot as plt\n",
        "import seaborn as sns\n",
        "from __future__ import division\n",
        "%matplotlib inline\n",
        "\n",
        "def conf_matrix(actual, predicted):\n",
        "    cm = confusion_matrix(actual, predicted)\n",
        "    sns.heatmap(cm, xticklabels=['predicted_negative', 'predicted_positive'], \n",
        "                yticklabels=['actual_negative', 'actual_positive'], annot=True,\n",
        "                fmt='d', annot_kws={'fontsize':20}, cmap=\"YlGnBu\");\n",
        "\n",
        "    true_neg, false_pos = cm[0]\n",
        "    false_neg, true_pos = cm[1]\n",
        "    \n",
        "    a = true_pos + true_neg\n",
        "    b = true_pos + true_neg + false_pos + false_neg\n",
        "    print (a/b)\n",
        "    \n",
        "    accuracy = round(float((true_pos + true_neg) / (true_pos + true_neg + false_pos + false_neg)),3)\n",
        "    precision = round(float((true_pos) / (true_pos + false_pos)),3)\n",
        "    recall = round(float((true_pos) / (true_pos + false_neg)),3)\n",
        "    f1 = round(float(2 * (precision * recall) / (precision + recall)),3)\n",
        "\n",
        "    cm_results = [accuracy, precision, recall, f1]\n",
        "    return cm_results"
      ],
      "execution_count": null,
      "outputs": []
    },
    {
      "cell_type": "code",
      "metadata": {
        "colab": {
          "base_uri": "https://localhost:8080/",
          "height": 445
        },
        "id": "2DZHYM9Tbb5p",
        "outputId": "31a05c5a-ff1b-4482-ff86-913292e27092"
      },
      "source": [
        "# The heat map for the first logistic regression model\n",
        "cm1 = conf_matrix(y_test, y_pred_cv1)"
      ],
      "execution_count": null,
      "outputs": [
        {
          "output_type": "stream",
          "name": "stdout",
          "text": [
            "0.9728682170542635\n"
          ]
        },
        {
          "output_type": "display_data",
          "data": {
            "image/png": "[encoded data removed]",
            "text/plain": [
              "<Figure size 432x288 with 2 Axes>"
            ]
          },
          "metadata": {
            "needs_background": "light"
          }
        }
      ]
    },
    {
      "cell_type": "code",
      "metadata": {
        "colab": {
          "base_uri": "https://localhost:8080/",
          "height": 445
        },
        "id": "Ah-v5JEpbiAI",
        "outputId": "32d1c9ac-d74d-4ae8-b678-5f57d6177704"
      },
      "source": [
        "# The heat map for the second logistic regression model\n",
        "cm2 = conf_matrix(y_test, y_pred_cv2)"
      ],
      "execution_count": null,
      "outputs": [
        {
          "output_type": "stream",
          "name": "stdout",
          "text": [
            "0.9728682170542635\n"
          ]
        },
        {
          "output_type": "display_data",
          "data": {
            "image/png": "[encoded data removed]",
            "text/plain": [
              "<Figure size 432x288 with 2 Axes>"
            ]
          },
          "metadata": {
            "needs_background": "light"
          }
        }
      ]
    },
    {
      "cell_type": "code",
      "metadata": {
        "colab": {
          "base_uri": "https://localhost:8080/",
          "height": 175
        },
        "id": "wLd2S_HYbme6",
        "outputId": "1773749a-c45e-48d0-d54a-8bcccd0fdce3"
      },
      "source": [
        "# Compile all of the error metrics into a dataframe for comparison\n",
        "results = pd.DataFrame(list(zip(cm1, cm2)))\n",
        "results = results.set_index([['Accuracy', 'Precision', 'Recall', 'F1 Score']])\n",
        "results.columns = ['LogReg1', 'LogReg2']\n",
        "results"
      ],
      "execution_count": null,
      "outputs": [
        {
          "output_type": "execute_result",
          "data": {
            "text/html": [
              "<div>\n",
              "<style scoped>\n",
              "    .dataframe tbody tr th:only-of-type {\n",
              "        vertical-align: middle;\n",
              "    }\n",
              "\n",
              "    .dataframe tbody tr th {\n",
              "        vertical-align: top;\n",
              "    }\n",
              "\n",
              "    .dataframe thead th {\n",
              "        text-align: right;\n",
              "    }\n",
              "</style>\n",
              "<table border=\"1\" class=\"dataframe\">\n",
              "  <thead>\n",
              "    <tr style=\"text-align: right;\">\n",
              "      <th></th>\n",
              "      <th>LogReg1</th>\n",
              "      <th>LogReg2</th>\n",
              "    </tr>\n",
              "  </thead>\n",
              "  <tbody>\n",
              "    <tr>\n",
              "      <th>Accuracy</th>\n",
              "      <td>0.973</td>\n",
              "      <td>0.973</td>\n",
              "    </tr>\n",
              "    <tr>\n",
              "      <th>Precision</th>\n",
              "      <td>0.973</td>\n",
              "      <td>0.973</td>\n",
              "    </tr>\n",
              "    <tr>\n",
              "      <th>Recall</th>\n",
              "      <td>1.000</td>\n",
              "      <td>1.000</td>\n",
              "    </tr>\n",
              "    <tr>\n",
              "      <th>F1 Score</th>\n",
              "      <td>0.986</td>\n",
              "      <td>0.986</td>\n",
              "    </tr>\n",
              "  </tbody>\n",
              "</table>\n",
              "</div>"
            ],
            "text/plain": [
              "           LogReg1  LogReg2\n",
              "Accuracy     0.973    0.973\n",
              "Precision    0.973    0.973\n",
              "Recall       1.000    1.000\n",
              "F1 Score     0.986    0.986"
            ]
          },
          "metadata": {},
          "execution_count": 55
        }
      ]
    },
    {
      "cell_type": "markdown",
      "metadata": {
        "id": "TmQROzPqdR2d"
      },
      "source": [
        "Vamos tentar usar outra técnica de aprendizado de máquina para classificar essas avaliações como positivas ou negativas. Faça exatamente o mesmo exercício da etapa anterior, mas, desta vez, use Naive Bayes em vez de Regressão logística.\n",
        "\n",
        "Para dados contínuos, use [Multinomial Naive Bayes](http://scikit-learn.org/stable/modules/generated/sklearn.naive_bayes.MultinomialNB.html#sklearn.naive_bayes.MultinomialNB). Para dados binários, use [Bernoulli Naive Bayes](http://scikit-learn.org/stable/modules/generated/sklearn.naive_bayes.BernoulliNB.html#sklearn.naive_bayes.BernoulliNB).\n",
        "\n",
        "Compare os resultados."
      ]
    },
    {
      "cell_type": "code",
      "metadata": {
        "id": "Hiwthatwbrn0"
      },
      "source": [
        "# Fit the first Naive Bayes model\n",
        "from sklearn.naive_bayes import MultinomialNB\n",
        "\n",
        "mnb = MultinomialNB()\n",
        "mnb.fit(X_train_cv1, y_train)\n",
        "\n",
        "y_pred_cv1_nb = mnb.predict(X_test_cv1)"
      ],
      "execution_count": null,
      "outputs": []
    },
    {
      "cell_type": "code",
      "metadata": {
        "id": "48fItgdLdWO-"
      },
      "source": [
        "# Fit the second Naive Bayes model\n",
        "from sklearn.naive_bayes import BernoulliNB\n",
        "\n",
        "bnb = BernoulliNB()\n",
        "bnb.fit(X_train_cv2, y_train)\n",
        "\n",
        "y_pred_cv2_nb = bnb.predict(X_test_cv2)"
      ],
      "execution_count": null,
      "outputs": []
    },
    {
      "cell_type": "code",
      "metadata": {
        "colab": {
          "base_uri": "https://localhost:8080/",
          "height": 445
        },
        "id": "iSmALdVddYyc",
        "outputId": "697ddb17-c650-4faf-dd4a-97f410718fbe"
      },
      "source": [
        "# Here's the heat map for the first Naive Bayes model\n",
        "cm3 = conf_matrix(y_test, y_pred_cv1_nb)"
      ],
      "execution_count": null,
      "outputs": [
        {
          "output_type": "stream",
          "name": "stdout",
          "text": [
            "0.9728682170542635\n"
          ]
        },
        {
          "output_type": "display_data",
          "data": {
            "image/png": "[encoded data removed]",
            "text/plain": [
              "<Figure size 432x288 with 2 Axes>"
            ]
          },
          "metadata": {
            "needs_background": "light"
          }
        }
      ]
    },
    {
      "cell_type": "code",
      "metadata": {
        "colab": {
          "base_uri": "https://localhost:8080/",
          "height": 445
        },
        "id": "yw7rTfREdbct",
        "outputId": "15fddd9b-19e7-4e11-9357-c7a35c0d86ea"
      },
      "source": [
        "# Here's the heat map for the second Naive Bayes model\n",
        "cm4 = conf_matrix(y_test, y_pred_cv2_nb)"
      ],
      "execution_count": null,
      "outputs": [
        {
          "output_type": "stream",
          "name": "stdout",
          "text": [
            "0.9728682170542635\n"
          ]
        },
        {
          "output_type": "display_data",
          "data": {
            "image/png": "[encoded data removed]",
            "text/plain": [
              "<Figure size 432x288 with 2 Axes>"
            ]
          },
          "metadata": {
            "needs_background": "light"
          }
        }
      ]
    },
    {
      "cell_type": "code",
      "metadata": {
        "colab": {
          "base_uri": "https://localhost:8080/",
          "height": 175
        },
        "id": "gAI_nnqFdeDN",
        "outputId": "3361d41f-6335-4864-a4c5-676a6b0ce448"
      },
      "source": [
        "# Compile all of the error metrics into a dataframe for comparison\n",
        "results_nb = pd.DataFrame(list(zip(cm3, cm4)))\n",
        "results_nb = results_nb.set_index([['Accuracy', 'Precision', 'Recall', 'F1 Score']])\n",
        "results_nb.columns = ['NB1', 'NB2']\n",
        "results_nb\n",
        "\n",
        "results = pd.concat([results, results_nb], axis=1)\n",
        "results"
      ],
      "execution_count": null,
      "outputs": [
        {
          "output_type": "execute_result",
          "data": {
            "text/html": [
              "<div>\n",
              "<style scoped>\n",
              "    .dataframe tbody tr th:only-of-type {\n",
              "        vertical-align: middle;\n",
              "    }\n",
              "\n",
              "    .dataframe tbody tr th {\n",
              "        vertical-align: top;\n",
              "    }\n",
              "\n",
              "    .dataframe thead th {\n",
              "        text-align: right;\n",
              "    }\n",
              "</style>\n",
              "<table border=\"1\" class=\"dataframe\">\n",
              "  <thead>\n",
              "    <tr style=\"text-align: right;\">\n",
              "      <th></th>\n",
              "      <th>LogReg1</th>\n",
              "      <th>LogReg2</th>\n",
              "      <th>NB1</th>\n",
              "      <th>NB2</th>\n",
              "    </tr>\n",
              "  </thead>\n",
              "  <tbody>\n",
              "    <tr>\n",
              "      <th>Accuracy</th>\n",
              "      <td>0.973</td>\n",
              "      <td>0.973</td>\n",
              "      <td>0.973</td>\n",
              "      <td>0.973</td>\n",
              "    </tr>\n",
              "    <tr>\n",
              "      <th>Precision</th>\n",
              "      <td>0.973</td>\n",
              "      <td>0.973</td>\n",
              "      <td>0.973</td>\n",
              "      <td>0.973</td>\n",
              "    </tr>\n",
              "    <tr>\n",
              "      <th>Recall</th>\n",
              "      <td>1.000</td>\n",
              "      <td>1.000</td>\n",
              "      <td>1.000</td>\n",
              "      <td>1.000</td>\n",
              "    </tr>\n",
              "    <tr>\n",
              "      <th>F1 Score</th>\n",
              "      <td>0.986</td>\n",
              "      <td>0.986</td>\n",
              "      <td>0.986</td>\n",
              "      <td>0.986</td>\n",
              "    </tr>\n",
              "  </tbody>\n",
              "</table>\n",
              "</div>"
            ],
            "text/plain": [
              "           LogReg1  LogReg2    NB1    NB2\n",
              "Accuracy     0.973    0.973  0.973  0.973\n",
              "Precision    0.973    0.973  0.973  0.973\n",
              "Recall       1.000    1.000  1.000  1.000\n",
              "F1 Score     0.986    0.986  0.986  0.986"
            ]
          },
          "metadata": {},
          "execution_count": 64
        }
      ]
    },
    {
      "cell_type": "markdown",
      "metadata": {
        "id": "4Br3wLrvdh6e"
      },
      "source": [
        "Até este ponto, usamos o Count Vectorizer para criar matrizes de termos de documentos para inserir nos modelos. Para pelo menos um dos quatro modelos que você criou até agora, use TF-IDF Vectorizer em vez de Count Vectorizer e veja se melhora os resultados."
      ]
    },
    {
      "cell_type": "code",
      "metadata": {
        "id": "OfWQJOM7dikU"
      },
      "source": [
        "# Create TF-IDF versions of the Count Vectorizers created earlier in the exercise\n",
        "from sklearn.feature_extraction.text import TfidfVectorizer\n",
        "\n",
        "tfidf1 = TfidfVectorizer(stop_words='english')\n",
        "X_train_tfidf1 = tfidf1.fit_transform(X_train)\n",
        "X_test_tfidf1  = tfidf1.transform(X_test)\n",
        "\n",
        "tfidf2 = TfidfVectorizer(ngram_range=(1,2), binary=True, stop_words='english')\n",
        "X_train_tfidf2 = tfidf2.fit_transform(X_train)\n",
        "X_test_tfidf2  = tfidf2.transform(X_test)"
      ],
      "execution_count": null,
      "outputs": []
    },
    {
      "cell_type": "code",
      "metadata": {
        "colab": {
          "base_uri": "https://localhost:8080/",
          "height": 445
        },
        "id": "rsBGxkcwdm02",
        "outputId": "9942989d-ae95-4329-c5b3-cb719c95b907"
      },
      "source": [
        "# Fit the first logistic regression on the TF-IDF data\n",
        "lr.fit(X_train_tfidf1, y_train)\n",
        "y_pred_tfidf1_lr = lr.predict(X_test_tfidf1)\n",
        "cm5 = conf_matrix(y_test, y_pred_tfidf1_lr)"
      ],
      "execution_count": null,
      "outputs": [
        {
          "output_type": "stream",
          "name": "stdout",
          "text": [
            "0.9728682170542635\n"
          ]
        },
        {
          "output_type": "display_data",
          "data": {
            "image/png": "[encoded data removed]",
            "text/plain": [
              "<Figure size 432x288 with 2 Axes>"
            ]
          },
          "metadata": {
            "needs_background": "light"
          }
        }
      ]
    },
    {
      "cell_type": "code",
      "metadata": {
        "colab": {
          "base_uri": "https://localhost:8080/",
          "height": 445
        },
        "id": "2PN3rZPSdpWs",
        "outputId": "cc6a8259-fce3-4221-bcdb-4db8289e4ac3"
      },
      "source": [
        "# Fit the second logistic regression on the TF-IDF data\n",
        "lr.fit(X_train_tfidf2, y_train)\n",
        "y_pred_tfidf2_lr = lr.predict(X_test_tfidf2)\n",
        "cm6 = conf_matrix(y_test, y_pred_tfidf2_lr)"
      ],
      "execution_count": null,
      "outputs": [
        {
          "output_type": "stream",
          "name": "stdout",
          "text": [
            "0.9728682170542635\n"
          ]
        },
        {
          "output_type": "display_data",
          "data": {
            "image/png": "[encoded data removed]",
            "text/plain": [
              "<Figure size 432x288 with 2 Axes>"
            ]
          },
          "metadata": {
            "needs_background": "light"
          }
        }
      ]
    },
    {
      "cell_type": "code",
      "metadata": {
        "colab": {
          "base_uri": "https://localhost:8080/",
          "height": 445
        },
        "id": "Fy76qEJvdrIk",
        "outputId": "3478ea76-06f2-470d-d449-b597a5b8ebb5"
      },
      "source": [
        "# Fit the first Naive Bayes model on the TF-IDF data\n",
        "mnb.fit(X_train_tfidf1.toarray(), y_train)\n",
        "y_pred_tfidf1_nb = mnb.predict(X_test_tfidf1)\n",
        "cm7 = conf_matrix(y_test, y_pred_tfidf1_nb)"
      ],
      "execution_count": null,
      "outputs": [
        {
          "output_type": "stream",
          "name": "stdout",
          "text": [
            "0.9728682170542635\n"
          ]
        },
        {
          "output_type": "display_data",
          "data": {
            "image/png": "[encoded data removed]",
            "text/plain": [
              "<Figure size 432x288 with 2 Axes>"
            ]
          },
          "metadata": {
            "needs_background": "light"
          }
        }
      ]
    },
    {
      "cell_type": "code",
      "metadata": {
        "colab": {
          "base_uri": "https://localhost:8080/",
          "height": 445
        },
        "id": "7D-cQqFkdtDF",
        "outputId": "3d36855a-0ee3-46e8-ae6d-ae00f0608fe6"
      },
      "source": [
        "# Fit the second Naive Bayes model on the TF-IDF data\n",
        "bnb.fit(X_train_tfidf2.toarray(), y_train)\n",
        "y_pred_tfidf2_nb = bnb.predict(X_test_tfidf2)\n",
        "cm8 = conf_matrix(y_test, y_pred_tfidf2_nb)"
      ],
      "execution_count": null,
      "outputs": [
        {
          "output_type": "stream",
          "name": "stdout",
          "text": [
            "0.9728682170542635\n"
          ]
        },
        {
          "output_type": "display_data",
          "data": {
            "image/png": "[encoded data removed]",
            "text/plain": [
              "<Figure size 432x288 with 2 Axes>"
            ]
          },
          "metadata": {
            "needs_background": "light"
          }
        }
      ]
    },
    {
      "cell_type": "code",
      "metadata": {
        "colab": {
          "base_uri": "https://localhost:8080/",
          "height": 175
        },
        "id": "AJ5Z1L8cdu-t",
        "outputId": "b8f0686c-6b07-4e7a-d44e-1b33a0e92c29"
      },
      "source": [
        "# Compile all of the error metrics into a dataframe for comparison\n",
        "results_tf = pd.DataFrame(list(zip(cm5, cm6, cm7, cm8)))\n",
        "results_tf = results_tf.set_index([['Accuracy', 'Precision', 'Recall', 'F1 Score']])\n",
        "results_tf.columns = ['LR1-TFIDF', 'LR2-TFIDF', 'NB1-TFIDF', 'NB2-TFIDF']\n",
        "results_tf\n",
        "\n",
        "results = pd.concat([results, results_tf], axis=1)\n",
        "results"
      ],
      "execution_count": null,
      "outputs": [
        {
          "output_type": "execute_result",
          "data": {
            "text/html": [
              "<div>\n",
              "<style scoped>\n",
              "    .dataframe tbody tr th:only-of-type {\n",
              "        vertical-align: middle;\n",
              "    }\n",
              "\n",
              "    .dataframe tbody tr th {\n",
              "        vertical-align: top;\n",
              "    }\n",
              "\n",
              "    .dataframe thead th {\n",
              "        text-align: right;\n",
              "    }\n",
              "</style>\n",
              "<table border=\"1\" class=\"dataframe\">\n",
              "  <thead>\n",
              "    <tr style=\"text-align: right;\">\n",
              "      <th></th>\n",
              "      <th>LogReg1</th>\n",
              "      <th>LogReg2</th>\n",
              "      <th>NB1</th>\n",
              "      <th>NB2</th>\n",
              "      <th>LR1-TFIDF</th>\n",
              "      <th>LR2-TFIDF</th>\n",
              "      <th>NB1-TFIDF</th>\n",
              "      <th>NB2-TFIDF</th>\n",
              "    </tr>\n",
              "  </thead>\n",
              "  <tbody>\n",
              "    <tr>\n",
              "      <th>Accuracy</th>\n",
              "      <td>0.973</td>\n",
              "      <td>0.973</td>\n",
              "      <td>0.973</td>\n",
              "      <td>0.973</td>\n",
              "      <td>0.973</td>\n",
              "      <td>0.973</td>\n",
              "      <td>0.973</td>\n",
              "      <td>0.973</td>\n",
              "    </tr>\n",
              "    <tr>\n",
              "      <th>Precision</th>\n",
              "      <td>0.973</td>\n",
              "      <td>0.973</td>\n",
              "      <td>0.973</td>\n",
              "      <td>0.973</td>\n",
              "      <td>0.973</td>\n",
              "      <td>0.973</td>\n",
              "      <td>0.973</td>\n",
              "      <td>0.973</td>\n",
              "    </tr>\n",
              "    <tr>\n",
              "      <th>Recall</th>\n",
              "      <td>1.000</td>\n",
              "      <td>1.000</td>\n",
              "      <td>1.000</td>\n",
              "      <td>1.000</td>\n",
              "      <td>1.000</td>\n",
              "      <td>1.000</td>\n",
              "      <td>1.000</td>\n",
              "      <td>1.000</td>\n",
              "    </tr>\n",
              "    <tr>\n",
              "      <th>F1 Score</th>\n",
              "      <td>0.986</td>\n",
              "      <td>0.986</td>\n",
              "      <td>0.986</td>\n",
              "      <td>0.986</td>\n",
              "      <td>0.986</td>\n",
              "      <td>0.986</td>\n",
              "      <td>0.986</td>\n",
              "      <td>0.986</td>\n",
              "    </tr>\n",
              "  </tbody>\n",
              "</table>\n",
              "</div>"
            ],
            "text/plain": [
              "           LogReg1  LogReg2    NB1  ...  LR2-TFIDF  NB1-TFIDF  NB2-TFIDF\n",
              "Accuracy     0.973    0.973  0.973  ...      0.973      0.973      0.973\n",
              "Precision    0.973    0.973  0.973  ...      0.973      0.973      0.973\n",
              "Recall       1.000    1.000  1.000  ...      1.000      1.000      1.000\n",
              "F1 Score     0.986    0.986  0.986  ...      0.986      0.986      0.986\n",
              "\n",
              "[4 rows x 8 columns]"
            ]
          },
          "metadata": {},
          "execution_count": 70
        }
      ]
    },
    {
      "cell_type": "markdown",
      "metadata": {
        "id": "VycHeeMXT6VS"
      },
      "source": [
        "## Exercício"
      ]
    },
    {
      "cell_type": "markdown",
      "metadata": {
        "id": "578MVu26T-FD"
      },
      "source": [
        "Crie um modelo para análise de sentimentos para [revisões de hoteis](https://www.kaggle.com/andrewmvd/trip-advisor-hotel-reviews). Considere positivo, as análises com 4 ou 5 estrelas, negativos as demais."
      ]
    },
    {
      "cell_type": "code",
      "metadata": {
        "id": "elRDPa1jT8XX"
      },
      "source": [
        ""
      ],
      "execution_count": null,
      "outputs": []
    }
  ]
}