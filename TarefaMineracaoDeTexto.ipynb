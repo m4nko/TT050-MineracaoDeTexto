{
  "nbformat": 4,
  "nbformat_minor": 0,
  "metadata": {
    "colab": {
      "name": "TarefaMineracaoDeTexto.ipynb",
      "provenance": [],
      "collapsed_sections": [],
      "authorship_tag": "ABX9TyOuTf+JfcuBZbaVAjIfROox",
      "include_colab_link": true
    },
    "kernelspec": {
      "name": "python3",
      "display_name": "Python 3"
    },
    "language_info": {
      "name": "python"
    }
  },
  "cells": [
    {
      "cell_type": "markdown",
      "metadata": {
        "id": "view-in-github",
        "colab_type": "text"
      },
      "source": [
        "<a href=\"https://colab.research.google.com/github/m4nko/TT050-MineracaoDeTexto/blob/main/TarefaMineracaoDeTexto.ipynb\" target=\"_parent\"><img src=\"https://colab.research.google.com/assets/colab-badge.svg\" alt=\"Open In Colab\"/></a>"
      ]
    },
    {
      "cell_type": "markdown",
      "metadata": {
        "id": "zSpH-m71K6tf"
      },
      "source": [
        "# Tarefa Mineração de Texto - Reviews de Hotéis\n",
        "### Carlos Eduardo de Andrade Pereira - 168321"
      ]
    },
    {
      "cell_type": "code",
      "metadata": {
        "colab": {
          "base_uri": "https://localhost:8080/",
          "height": 204
        },
        "id": "-XWLmeweKTuf",
        "outputId": "d6b48669-bf04-4106-801e-22ea1ebac524"
      },
      "source": [
        "# Importando o Dataset\n",
        "\n",
        "import pandas as pd\n",
        "dt = pd.read_csv('tripadvisor_hotel_reviews.csv')\n",
        "dt.head()"
      ],
      "execution_count": 5,
      "outputs": [
        {
          "output_type": "execute_result",
          "data": {
            "text/html": [
              "<div>\n",
              "<style scoped>\n",
              "    .dataframe tbody tr th:only-of-type {\n",
              "        vertical-align: middle;\n",
              "    }\n",
              "\n",
              "    .dataframe tbody tr th {\n",
              "        vertical-align: top;\n",
              "    }\n",
              "\n",
              "    .dataframe thead th {\n",
              "        text-align: right;\n",
              "    }\n",
              "</style>\n",
              "<table border=\"1\" class=\"dataframe\">\n",
              "  <thead>\n",
              "    <tr style=\"text-align: right;\">\n",
              "      <th></th>\n",
              "      <th>Review</th>\n",
              "      <th>Rating</th>\n",
              "    </tr>\n",
              "  </thead>\n",
              "  <tbody>\n",
              "    <tr>\n",
              "      <th>0</th>\n",
              "      <td>nice hotel expensive parking got good deal sta...</td>\n",
              "      <td>4</td>\n",
              "    </tr>\n",
              "    <tr>\n",
              "      <th>1</th>\n",
              "      <td>ok nothing special charge diamond member hilto...</td>\n",
              "      <td>2</td>\n",
              "    </tr>\n",
              "    <tr>\n",
              "      <th>2</th>\n",
              "      <td>nice rooms not 4* experience hotel monaco seat...</td>\n",
              "      <td>3</td>\n",
              "    </tr>\n",
              "    <tr>\n",
              "      <th>3</th>\n",
              "      <td>unique, great stay, wonderful time hotel monac...</td>\n",
              "      <td>5</td>\n",
              "    </tr>\n",
              "    <tr>\n",
              "      <th>4</th>\n",
              "      <td>great stay great stay, went seahawk game aweso...</td>\n",
              "      <td>5</td>\n",
              "    </tr>\n",
              "  </tbody>\n",
              "</table>\n",
              "</div>"
            ],
            "text/plain": [
              "                                              Review  Rating\n",
              "0  nice hotel expensive parking got good deal sta...       4\n",
              "1  ok nothing special charge diamond member hilto...       2\n",
              "2  nice rooms not 4* experience hotel monaco seat...       3\n",
              "3  unique, great stay, wonderful time hotel monac...       5\n",
              "4  great stay great stay, went seahawk game aweso...       5"
            ]
          },
          "metadata": {},
          "execution_count": 5
        }
      ]
    },
    {
      "cell_type": "code",
      "metadata": {
        "colab": {
          "base_uri": "https://localhost:8080/"
        },
        "id": "kVxdSgikMFlM",
        "outputId": "93641652-247a-4726-84eb-830938124bc1"
      },
      "source": [
        "# Tamanho do dataset\n",
        "\n",
        "len(dt)"
      ],
      "execution_count": 6,
      "outputs": [
        {
          "output_type": "execute_result",
          "data": {
            "text/plain": [
              "20491"
            ]
          },
          "metadata": {},
          "execution_count": 6
        }
      ]
    },
    {
      "cell_type": "markdown",
      "metadata": {
        "id": "WI66Q1jSRiR7"
      },
      "source": [
        "### Passo 1: Preparar as reviews"
      ]
    },
    {
      "cell_type": "code",
      "metadata": {
        "colab": {
          "base_uri": "https://localhost:8080/",
          "height": 204
        },
        "id": "P56IscPURq25",
        "outputId": "c98c1c19-f3e8-4a40-9ac3-490f38e16bdb"
      },
      "source": [
        "# Removendo palavras com números e as tornando minúsculas\n",
        "# re = Regular Expression\n",
        "\n",
        "import re\n",
        "\n",
        "lower_alpha = lambda x: re.sub(r\"\"\"\\w*\\d\\w*\"\"\", ' ', x.lower())\n",
        "dt['Review'] = dt.Review.map(lower_alpha)\n",
        "\n",
        "dt.head()"
      ],
      "execution_count": 7,
      "outputs": [
        {
          "output_type": "execute_result",
          "data": {
            "text/html": [
              "<div>\n",
              "<style scoped>\n",
              "    .dataframe tbody tr th:only-of-type {\n",
              "        vertical-align: middle;\n",
              "    }\n",
              "\n",
              "    .dataframe tbody tr th {\n",
              "        vertical-align: top;\n",
              "    }\n",
              "\n",
              "    .dataframe thead th {\n",
              "        text-align: right;\n",
              "    }\n",
              "</style>\n",
              "<table border=\"1\" class=\"dataframe\">\n",
              "  <thead>\n",
              "    <tr style=\"text-align: right;\">\n",
              "      <th></th>\n",
              "      <th>Review</th>\n",
              "      <th>Rating</th>\n",
              "    </tr>\n",
              "  </thead>\n",
              "  <tbody>\n",
              "    <tr>\n",
              "      <th>0</th>\n",
              "      <td>nice hotel expensive parking got good deal sta...</td>\n",
              "      <td>4</td>\n",
              "    </tr>\n",
              "    <tr>\n",
              "      <th>1</th>\n",
              "      <td>ok nothing special charge diamond member hilto...</td>\n",
              "      <td>2</td>\n",
              "    </tr>\n",
              "    <tr>\n",
              "      <th>2</th>\n",
              "      <td>nice rooms not  * experience hotel monaco seat...</td>\n",
              "      <td>3</td>\n",
              "    </tr>\n",
              "    <tr>\n",
              "      <th>3</th>\n",
              "      <td>unique, great stay, wonderful time hotel monac...</td>\n",
              "      <td>5</td>\n",
              "    </tr>\n",
              "    <tr>\n",
              "      <th>4</th>\n",
              "      <td>great stay great stay, went seahawk game aweso...</td>\n",
              "      <td>5</td>\n",
              "    </tr>\n",
              "  </tbody>\n",
              "</table>\n",
              "</div>"
            ],
            "text/plain": [
              "                                              Review  Rating\n",
              "0  nice hotel expensive parking got good deal sta...       4\n",
              "1  ok nothing special charge diamond member hilto...       2\n",
              "2  nice rooms not  * experience hotel monaco seat...       3\n",
              "3  unique, great stay, wonderful time hotel monac...       5\n",
              "4  great stay great stay, went seahawk game aweso...       5"
            ]
          },
          "metadata": {},
          "execution_count": 7
        }
      ]
    },
    {
      "cell_type": "code",
      "metadata": {
        "colab": {
          "base_uri": "https://localhost:8080/",
          "height": 204
        },
        "id": "87QxVn7GTADS",
        "outputId": "67508c2b-2eae-4cd3-9ade-edcdc48d18e9"
      },
      "source": [
        "# Removendo pontuações\n",
        "\n",
        "import string\n",
        "\n",
        "without_ponc = lambda x: re.sub('[%s]' % re.escape(string.punctuation), ' ', x)\n",
        "dt['Review'] = dt.Review.map(without_ponc)\n",
        "\n",
        "dt.head()"
      ],
      "execution_count": 8,
      "outputs": [
        {
          "output_type": "execute_result",
          "data": {
            "text/html": [
              "<div>\n",
              "<style scoped>\n",
              "    .dataframe tbody tr th:only-of-type {\n",
              "        vertical-align: middle;\n",
              "    }\n",
              "\n",
              "    .dataframe tbody tr th {\n",
              "        vertical-align: top;\n",
              "    }\n",
              "\n",
              "    .dataframe thead th {\n",
              "        text-align: right;\n",
              "    }\n",
              "</style>\n",
              "<table border=\"1\" class=\"dataframe\">\n",
              "  <thead>\n",
              "    <tr style=\"text-align: right;\">\n",
              "      <th></th>\n",
              "      <th>Review</th>\n",
              "      <th>Rating</th>\n",
              "    </tr>\n",
              "  </thead>\n",
              "  <tbody>\n",
              "    <tr>\n",
              "      <th>0</th>\n",
              "      <td>nice hotel expensive parking got good deal sta...</td>\n",
              "      <td>4</td>\n",
              "    </tr>\n",
              "    <tr>\n",
              "      <th>1</th>\n",
              "      <td>ok nothing special charge diamond member hilto...</td>\n",
              "      <td>2</td>\n",
              "    </tr>\n",
              "    <tr>\n",
              "      <th>2</th>\n",
              "      <td>nice rooms not    experience hotel monaco seat...</td>\n",
              "      <td>3</td>\n",
              "    </tr>\n",
              "    <tr>\n",
              "      <th>3</th>\n",
              "      <td>unique  great stay  wonderful time hotel monac...</td>\n",
              "      <td>5</td>\n",
              "    </tr>\n",
              "    <tr>\n",
              "      <th>4</th>\n",
              "      <td>great stay great stay  went seahawk game aweso...</td>\n",
              "      <td>5</td>\n",
              "    </tr>\n",
              "  </tbody>\n",
              "</table>\n",
              "</div>"
            ],
            "text/plain": [
              "                                              Review  Rating\n",
              "0  nice hotel expensive parking got good deal sta...       4\n",
              "1  ok nothing special charge diamond member hilto...       2\n",
              "2  nice rooms not    experience hotel monaco seat...       3\n",
              "3  unique  great stay  wonderful time hotel monac...       5\n",
              "4  great stay great stay  went seahawk game aweso...       5"
            ]
          },
          "metadata": {},
          "execution_count": 8
        }
      ]
    },
    {
      "cell_type": "code",
      "metadata": {
        "colab": {
          "base_uri": "https://localhost:8080/",
          "height": 120
        },
        "id": "kX-4XoZ_TSsq",
        "outputId": "9f609a46-c3cb-41cf-95d2-ce4958b83939"
      },
      "source": [
        "# Checando se não há 'br' no texto\n",
        "\n",
        "dt.Review[1]"
      ],
      "execution_count": 9,
      "outputs": [
        {
          "output_type": "execute_result",
          "data": {
            "application/vnd.google.colaboratory.intrinsic+json": {
              "type": "string"
            },
            "text/plain": [
              "'ok nothing special charge diamond member hilton decided chain shot   anniversary seattle  start booked suite paid extra website description not  suite bedroom bathroom standard hotel room  took printed reservation desk showed said things like tv couch ect desk clerk told oh mixed suites description kimpton website sorry free breakfast  got kidding  embassy suits sitting room bathroom bedroom unlike kimpton calls suite    day stay offer correct false advertising  send kimpton preferred guest website email asking failure provide suite advertised website reservation description furnished hard copy reservation printout website desk manager duty did not reply solution  send email trip guest survey did not follow email mail  guess tell concerned guest the staff ranged indifferent not helpful  asked desk good breakfast spots neighborhood hood told no hotels  gee best breakfast spots seattle     block away convenient hotel does not know exist  arrived late night   pm inside run bellman busy chating cell phone help bags prior arrival emailed hotel inform   anniversary half really picky wanted make sure good  got nice email saying like deliver bottle champagne chocolate covered strawberries room arrival celebrate  told needed foam pillows  arrival no champagne strawberries no foam pillows great room view alley high rise building good not better housekeeping staff cleaner room property  impressed left morning shopping room got short trips   hours  beds comfortable not good ac heat control   x   inch screen bring green shine directly eyes night  light sensitive tape controls this not   start hotel clean business hotel super high rates  better chain hotels seattle   '"
            ]
          },
          "metadata": {},
          "execution_count": 9
        }
      ]
    },
    {
      "cell_type": "code",
      "metadata": {
        "id": "jf2Iq8ZSTyzk"
      },
      "source": [
        "# Tokenizando\n",
        "#import nltk\n",
        "#nltk.download()\n",
        "#nltk.download('punkt')\n",
        "from nltk.tokenize import word_tokenize\n",
        "\n",
        "dt['Token'] = dt.Review.map(word_tokenize)"
      ],
      "execution_count": 10,
      "outputs": []
    },
    {
      "cell_type": "code",
      "metadata": {
        "colab": {
          "base_uri": "https://localhost:8080/",
          "height": 340
        },
        "id": "d7XpOp76VWBB",
        "outputId": "250dc09f-cb77-4d86-c1a8-0f9782069bb6"
      },
      "source": [
        "# Removendo stop words\n",
        "import nltk\n",
        "nltk.download('stopwords')\n",
        "nltk.download('averaged_perceptron_tagger')\n",
        "nltk.download('wordnet')\n",
        "\n",
        "from nltk.corpus import stopwords\n",
        "\n",
        "stop_words = stopwords.words('english')\n",
        "\n",
        "stop_lambda = lambda x: [y for y in x if y not in stop_words]\n",
        "dt['Tokens_stWords'] = dt.Token.apply(stop_lambda)\n",
        "dt.head()"
      ],
      "execution_count": 11,
      "outputs": [
        {
          "output_type": "stream",
          "name": "stdout",
          "text": [
            "[nltk_data] Downloading package stopwords to /root/nltk_data...\n",
            "[nltk_data]   Package stopwords is already up-to-date!\n",
            "[nltk_data] Downloading package averaged_perceptron_tagger to\n",
            "[nltk_data]     /root/nltk_data...\n",
            "[nltk_data]   Package averaged_perceptron_tagger is already up-to-\n",
            "[nltk_data]       date!\n",
            "[nltk_data] Downloading package wordnet to /root/nltk_data...\n",
            "[nltk_data]   Package wordnet is already up-to-date!\n"
          ]
        },
        {
          "output_type": "execute_result",
          "data": {
            "text/html": [
              "<div>\n",
              "<style scoped>\n",
              "    .dataframe tbody tr th:only-of-type {\n",
              "        vertical-align: middle;\n",
              "    }\n",
              "\n",
              "    .dataframe tbody tr th {\n",
              "        vertical-align: top;\n",
              "    }\n",
              "\n",
              "    .dataframe thead th {\n",
              "        text-align: right;\n",
              "    }\n",
              "</style>\n",
              "<table border=\"1\" class=\"dataframe\">\n",
              "  <thead>\n",
              "    <tr style=\"text-align: right;\">\n",
              "      <th></th>\n",
              "      <th>Review</th>\n",
              "      <th>Rating</th>\n",
              "      <th>Token</th>\n",
              "      <th>Tokens_stWords</th>\n",
              "    </tr>\n",
              "  </thead>\n",
              "  <tbody>\n",
              "    <tr>\n",
              "      <th>0</th>\n",
              "      <td>nice hotel expensive parking got good deal sta...</td>\n",
              "      <td>4</td>\n",
              "      <td>[nice, hotel, expensive, parking, got, good, d...</td>\n",
              "      <td>[nice, hotel, expensive, parking, got, good, d...</td>\n",
              "    </tr>\n",
              "    <tr>\n",
              "      <th>1</th>\n",
              "      <td>ok nothing special charge diamond member hilto...</td>\n",
              "      <td>2</td>\n",
              "      <td>[ok, nothing, special, charge, diamond, member...</td>\n",
              "      <td>[ok, nothing, special, charge, diamond, member...</td>\n",
              "    </tr>\n",
              "    <tr>\n",
              "      <th>2</th>\n",
              "      <td>nice rooms not    experience hotel monaco seat...</td>\n",
              "      <td>3</td>\n",
              "      <td>[nice, rooms, not, experience, hotel, monaco, ...</td>\n",
              "      <td>[nice, rooms, experience, hotel, monaco, seatt...</td>\n",
              "    </tr>\n",
              "    <tr>\n",
              "      <th>3</th>\n",
              "      <td>unique  great stay  wonderful time hotel monac...</td>\n",
              "      <td>5</td>\n",
              "      <td>[unique, great, stay, wonderful, time, hotel, ...</td>\n",
              "      <td>[unique, great, stay, wonderful, time, hotel, ...</td>\n",
              "    </tr>\n",
              "    <tr>\n",
              "      <th>4</th>\n",
              "      <td>great stay great stay  went seahawk game aweso...</td>\n",
              "      <td>5</td>\n",
              "      <td>[great, stay, great, stay, went, seahawk, game...</td>\n",
              "      <td>[great, stay, great, stay, went, seahawk, game...</td>\n",
              "    </tr>\n",
              "  </tbody>\n",
              "</table>\n",
              "</div>"
            ],
            "text/plain": [
              "                                              Review  ...                                     Tokens_stWords\n",
              "0  nice hotel expensive parking got good deal sta...  ...  [nice, hotel, expensive, parking, got, good, d...\n",
              "1  ok nothing special charge diamond member hilto...  ...  [ok, nothing, special, charge, diamond, member...\n",
              "2  nice rooms not    experience hotel monaco seat...  ...  [nice, rooms, experience, hotel, monaco, seatt...\n",
              "3  unique  great stay  wonderful time hotel monac...  ...  [unique, great, stay, wonderful, time, hotel, ...\n",
              "4  great stay great stay  went seahawk game aweso...  ...  [great, stay, great, stay, went, seahawk, game...\n",
              "\n",
              "[5 rows x 4 columns]"
            ]
          },
          "metadata": {},
          "execution_count": 11
        }
      ]
    },
    {
      "cell_type": "code",
      "metadata": {
        "colab": {
          "base_uri": "https://localhost:8080/",
          "height": 204
        },
        "id": "Pxkd4FWfVxBh",
        "outputId": "221cbe58-ae7b-4b8a-eb00-b179f589c1e8"
      },
      "source": [
        "# Parte do discurso\n",
        "\n",
        "from nltk.tag import pos_tag\n",
        "\n",
        "pos_lambda = lambda x: nltk.pos_tag(x)\n",
        "dt['Tokens_pos'] = (dt.Tokens_stWords.apply(pos_lambda))\n",
        "dt.head()"
      ],
      "execution_count": 12,
      "outputs": [
        {
          "output_type": "execute_result",
          "data": {
            "text/html": [
              "<div>\n",
              "<style scoped>\n",
              "    .dataframe tbody tr th:only-of-type {\n",
              "        vertical-align: middle;\n",
              "    }\n",
              "\n",
              "    .dataframe tbody tr th {\n",
              "        vertical-align: top;\n",
              "    }\n",
              "\n",
              "    .dataframe thead th {\n",
              "        text-align: right;\n",
              "    }\n",
              "</style>\n",
              "<table border=\"1\" class=\"dataframe\">\n",
              "  <thead>\n",
              "    <tr style=\"text-align: right;\">\n",
              "      <th></th>\n",
              "      <th>Review</th>\n",
              "      <th>Rating</th>\n",
              "      <th>Token</th>\n",
              "      <th>Tokens_stWords</th>\n",
              "      <th>Tokens_pos</th>\n",
              "    </tr>\n",
              "  </thead>\n",
              "  <tbody>\n",
              "    <tr>\n",
              "      <th>0</th>\n",
              "      <td>nice hotel expensive parking got good deal sta...</td>\n",
              "      <td>4</td>\n",
              "      <td>[nice, hotel, expensive, parking, got, good, d...</td>\n",
              "      <td>[nice, hotel, expensive, parking, got, good, d...</td>\n",
              "      <td>[(nice, JJ), (hotel, NN), (expensive, JJ), (pa...</td>\n",
              "    </tr>\n",
              "    <tr>\n",
              "      <th>1</th>\n",
              "      <td>ok nothing special charge diamond member hilto...</td>\n",
              "      <td>2</td>\n",
              "      <td>[ok, nothing, special, charge, diamond, member...</td>\n",
              "      <td>[ok, nothing, special, charge, diamond, member...</td>\n",
              "      <td>[(ok, JJ), (nothing, NN), (special, JJ), (char...</td>\n",
              "    </tr>\n",
              "    <tr>\n",
              "      <th>2</th>\n",
              "      <td>nice rooms not    experience hotel monaco seat...</td>\n",
              "      <td>3</td>\n",
              "      <td>[nice, rooms, not, experience, hotel, monaco, ...</td>\n",
              "      <td>[nice, rooms, experience, hotel, monaco, seatt...</td>\n",
              "      <td>[(nice, JJ), (rooms, NNS), (experience, VBP), ...</td>\n",
              "    </tr>\n",
              "    <tr>\n",
              "      <th>3</th>\n",
              "      <td>unique  great stay  wonderful time hotel monac...</td>\n",
              "      <td>5</td>\n",
              "      <td>[unique, great, stay, wonderful, time, hotel, ...</td>\n",
              "      <td>[unique, great, stay, wonderful, time, hotel, ...</td>\n",
              "      <td>[(unique, JJ), (great, JJ), (stay, NN), (wonde...</td>\n",
              "    </tr>\n",
              "    <tr>\n",
              "      <th>4</th>\n",
              "      <td>great stay great stay  went seahawk game aweso...</td>\n",
              "      <td>5</td>\n",
              "      <td>[great, stay, great, stay, went, seahawk, game...</td>\n",
              "      <td>[great, stay, great, stay, went, seahawk, game...</td>\n",
              "      <td>[(great, JJ), (stay, NN), (great, JJ), (stay, ...</td>\n",
              "    </tr>\n",
              "  </tbody>\n",
              "</table>\n",
              "</div>"
            ],
            "text/plain": [
              "                                              Review  ...                                         Tokens_pos\n",
              "0  nice hotel expensive parking got good deal sta...  ...  [(nice, JJ), (hotel, NN), (expensive, JJ), (pa...\n",
              "1  ok nothing special charge diamond member hilto...  ...  [(ok, JJ), (nothing, NN), (special, JJ), (char...\n",
              "2  nice rooms not    experience hotel monaco seat...  ...  [(nice, JJ), (rooms, NNS), (experience, VBP), ...\n",
              "3  unique  great stay  wonderful time hotel monac...  ...  [(unique, JJ), (great, JJ), (stay, NN), (wonde...\n",
              "4  great stay great stay  went seahawk game aweso...  ...  [(great, JJ), (stay, NN), (great, JJ), (stay, ...\n",
              "\n",
              "[5 rows x 5 columns]"
            ]
          },
          "metadata": {},
          "execution_count": 12
        }
      ]
    },
    {
      "cell_type": "code",
      "metadata": {
        "colab": {
          "base_uri": "https://localhost:8080/",
          "height": 289
        },
        "id": "KwDjelYiXzaH",
        "outputId": "0d8871ef-8f81-4ffa-d74a-8b854f71ac60"
      },
      "source": [
        "# Stemização\n",
        "from nltk.stem import SnowballStemmer\n",
        "\n",
        "stemmer = SnowballStemmer('english')\n",
        "stem_lambda = lambda x: [stemmer.stem(y) for y in x]\n",
        "\n",
        "dt['Tokens_stem'] = dt.Tokens_stWords.apply(stem_lambda)\n",
        "dt.head()"
      ],
      "execution_count": 13,
      "outputs": [
        {
          "output_type": "execute_result",
          "data": {
            "text/html": [
              "<div>\n",
              "<style scoped>\n",
              "    .dataframe tbody tr th:only-of-type {\n",
              "        vertical-align: middle;\n",
              "    }\n",
              "\n",
              "    .dataframe tbody tr th {\n",
              "        vertical-align: top;\n",
              "    }\n",
              "\n",
              "    .dataframe thead th {\n",
              "        text-align: right;\n",
              "    }\n",
              "</style>\n",
              "<table border=\"1\" class=\"dataframe\">\n",
              "  <thead>\n",
              "    <tr style=\"text-align: right;\">\n",
              "      <th></th>\n",
              "      <th>Review</th>\n",
              "      <th>Rating</th>\n",
              "      <th>Token</th>\n",
              "      <th>Tokens_stWords</th>\n",
              "      <th>Tokens_pos</th>\n",
              "      <th>Tokens_stem</th>\n",
              "    </tr>\n",
              "  </thead>\n",
              "  <tbody>\n",
              "    <tr>\n",
              "      <th>0</th>\n",
              "      <td>nice hotel expensive parking got good deal sta...</td>\n",
              "      <td>4</td>\n",
              "      <td>[nice, hotel, expensive, parking, got, good, d...</td>\n",
              "      <td>[nice, hotel, expensive, parking, got, good, d...</td>\n",
              "      <td>[(nice, JJ), (hotel, NN), (expensive, JJ), (pa...</td>\n",
              "      <td>[nice, hotel, expens, park, got, good, deal, s...</td>\n",
              "    </tr>\n",
              "    <tr>\n",
              "      <th>1</th>\n",
              "      <td>ok nothing special charge diamond member hilto...</td>\n",
              "      <td>2</td>\n",
              "      <td>[ok, nothing, special, charge, diamond, member...</td>\n",
              "      <td>[ok, nothing, special, charge, diamond, member...</td>\n",
              "      <td>[(ok, JJ), (nothing, NN), (special, JJ), (char...</td>\n",
              "      <td>[ok, noth, special, charg, diamond, member, hi...</td>\n",
              "    </tr>\n",
              "    <tr>\n",
              "      <th>2</th>\n",
              "      <td>nice rooms not    experience hotel monaco seat...</td>\n",
              "      <td>3</td>\n",
              "      <td>[nice, rooms, not, experience, hotel, monaco, ...</td>\n",
              "      <td>[nice, rooms, experience, hotel, monaco, seatt...</td>\n",
              "      <td>[(nice, JJ), (rooms, NNS), (experience, VBP), ...</td>\n",
              "      <td>[nice, room, experi, hotel, monaco, seattl, go...</td>\n",
              "    </tr>\n",
              "    <tr>\n",
              "      <th>3</th>\n",
              "      <td>unique  great stay  wonderful time hotel monac...</td>\n",
              "      <td>5</td>\n",
              "      <td>[unique, great, stay, wonderful, time, hotel, ...</td>\n",
              "      <td>[unique, great, stay, wonderful, time, hotel, ...</td>\n",
              "      <td>[(unique, JJ), (great, JJ), (stay, NN), (wonde...</td>\n",
              "      <td>[uniqu, great, stay, wonder, time, hotel, mona...</td>\n",
              "    </tr>\n",
              "    <tr>\n",
              "      <th>4</th>\n",
              "      <td>great stay great stay  went seahawk game aweso...</td>\n",
              "      <td>5</td>\n",
              "      <td>[great, stay, great, stay, went, seahawk, game...</td>\n",
              "      <td>[great, stay, great, stay, went, seahawk, game...</td>\n",
              "      <td>[(great, JJ), (stay, NN), (great, JJ), (stay, ...</td>\n",
              "      <td>[great, stay, great, stay, went, seahawk, game...</td>\n",
              "    </tr>\n",
              "  </tbody>\n",
              "</table>\n",
              "</div>"
            ],
            "text/plain": [
              "                                              Review  ...                                        Tokens_stem\n",
              "0  nice hotel expensive parking got good deal sta...  ...  [nice, hotel, expens, park, got, good, deal, s...\n",
              "1  ok nothing special charge diamond member hilto...  ...  [ok, noth, special, charg, diamond, member, hi...\n",
              "2  nice rooms not    experience hotel monaco seat...  ...  [nice, room, experi, hotel, monaco, seattl, go...\n",
              "3  unique  great stay  wonderful time hotel monac...  ...  [uniqu, great, stay, wonder, time, hotel, mona...\n",
              "4  great stay great stay  went seahawk game aweso...  ...  [great, stay, great, stay, went, seahawk, game...\n",
              "\n",
              "[5 rows x 6 columns]"
            ]
          },
          "metadata": {},
          "execution_count": 13
        }
      ]
    },
    {
      "cell_type": "code",
      "metadata": {
        "colab": {
          "base_uri": "https://localhost:8080/",
          "height": 368
        },
        "id": "z9UNzK6jYGF2",
        "outputId": "ae09e63d-e3f2-47eb-bc38-d36a50ec8f84"
      },
      "source": [
        "# Lematização\n",
        "from nltk.corpus import wordnet\n",
        "from nltk.stem.wordnet import WordNetLemmatizer\n",
        "\n",
        "# Convertendo o esquema de nomeação para um que será reconhecido pelo WordNet\n",
        "def get_wordnet_pos(treebank_tag):\n",
        "    if treebank_tag.startswith('J'):\n",
        "        return wordnet.ADJ\n",
        "    elif treebank_tag.startswith('V'):\n",
        "        return wordnet.VERB\n",
        "    elif treebank_tag.startswith('N'):\n",
        "        return wordnet.NOUN\n",
        "    elif treebank_tag.startswith('R'):\n",
        "        return wordnet.ADV\n",
        "    else:\n",
        "        return wordnet.NOUN\n",
        "\n",
        "lemmatizer = WordNetLemmatizer()\n",
        "lemmatizer_fun = lambda x: lemmatizer.lemmatize(*x)\n",
        "dt['Tokens_lemma'] = dt.Tokens_pos\\\n",
        "                        .apply(lambda x: [(y[0], get_wordnet_pos(y[1])) for y in x])\\\n",
        "                        .apply(lambda x: [lemmatizer_fun(y) for y in x])\n",
        "\n",
        "\n",
        "dt.head().T"
      ],
      "execution_count": 14,
      "outputs": [
        {
          "output_type": "execute_result",
          "data": {
            "text/html": [
              "<div>\n",
              "<style scoped>\n",
              "    .dataframe tbody tr th:only-of-type {\n",
              "        vertical-align: middle;\n",
              "    }\n",
              "\n",
              "    .dataframe tbody tr th {\n",
              "        vertical-align: top;\n",
              "    }\n",
              "\n",
              "    .dataframe thead th {\n",
              "        text-align: right;\n",
              "    }\n",
              "</style>\n",
              "<table border=\"1\" class=\"dataframe\">\n",
              "  <thead>\n",
              "    <tr style=\"text-align: right;\">\n",
              "      <th></th>\n",
              "      <th>0</th>\n",
              "      <th>1</th>\n",
              "      <th>2</th>\n",
              "      <th>3</th>\n",
              "      <th>4</th>\n",
              "    </tr>\n",
              "  </thead>\n",
              "  <tbody>\n",
              "    <tr>\n",
              "      <th>Review</th>\n",
              "      <td>nice hotel expensive parking got good deal sta...</td>\n",
              "      <td>ok nothing special charge diamond member hilto...</td>\n",
              "      <td>nice rooms not    experience hotel monaco seat...</td>\n",
              "      <td>unique  great stay  wonderful time hotel monac...</td>\n",
              "      <td>great stay great stay  went seahawk game aweso...</td>\n",
              "    </tr>\n",
              "    <tr>\n",
              "      <th>Rating</th>\n",
              "      <td>4</td>\n",
              "      <td>2</td>\n",
              "      <td>3</td>\n",
              "      <td>5</td>\n",
              "      <td>5</td>\n",
              "    </tr>\n",
              "    <tr>\n",
              "      <th>Token</th>\n",
              "      <td>[nice, hotel, expensive, parking, got, good, d...</td>\n",
              "      <td>[ok, nothing, special, charge, diamond, member...</td>\n",
              "      <td>[nice, rooms, not, experience, hotel, monaco, ...</td>\n",
              "      <td>[unique, great, stay, wonderful, time, hotel, ...</td>\n",
              "      <td>[great, stay, great, stay, went, seahawk, game...</td>\n",
              "    </tr>\n",
              "    <tr>\n",
              "      <th>Tokens_stWords</th>\n",
              "      <td>[nice, hotel, expensive, parking, got, good, d...</td>\n",
              "      <td>[ok, nothing, special, charge, diamond, member...</td>\n",
              "      <td>[nice, rooms, experience, hotel, monaco, seatt...</td>\n",
              "      <td>[unique, great, stay, wonderful, time, hotel, ...</td>\n",
              "      <td>[great, stay, great, stay, went, seahawk, game...</td>\n",
              "    </tr>\n",
              "    <tr>\n",
              "      <th>Tokens_pos</th>\n",
              "      <td>[(nice, JJ), (hotel, NN), (expensive, JJ), (pa...</td>\n",
              "      <td>[(ok, JJ), (nothing, NN), (special, JJ), (char...</td>\n",
              "      <td>[(nice, JJ), (rooms, NNS), (experience, VBP), ...</td>\n",
              "      <td>[(unique, JJ), (great, JJ), (stay, NN), (wonde...</td>\n",
              "      <td>[(great, JJ), (stay, NN), (great, JJ), (stay, ...</td>\n",
              "    </tr>\n",
              "    <tr>\n",
              "      <th>Tokens_stem</th>\n",
              "      <td>[nice, hotel, expens, park, got, good, deal, s...</td>\n",
              "      <td>[ok, noth, special, charg, diamond, member, hi...</td>\n",
              "      <td>[nice, room, experi, hotel, monaco, seattl, go...</td>\n",
              "      <td>[uniqu, great, stay, wonder, time, hotel, mona...</td>\n",
              "      <td>[great, stay, great, stay, went, seahawk, game...</td>\n",
              "    </tr>\n",
              "    <tr>\n",
              "      <th>Tokens_lemma</th>\n",
              "      <td>[nice, hotel, expensive, parking, get, good, d...</td>\n",
              "      <td>[ok, nothing, special, charge, diamond, member...</td>\n",
              "      <td>[nice, room, experience, hotel, monaco, seattl...</td>\n",
              "      <td>[unique, great, stay, wonderful, time, hotel, ...</td>\n",
              "      <td>[great, stay, great, stay, go, seahawk, game, ...</td>\n",
              "    </tr>\n",
              "  </tbody>\n",
              "</table>\n",
              "</div>"
            ],
            "text/plain": [
              "                                                                0  ...                                                  4\n",
              "Review          nice hotel expensive parking got good deal sta...  ...  great stay great stay  went seahawk game aweso...\n",
              "Rating                                                          4  ...                                                  5\n",
              "Token           [nice, hotel, expensive, parking, got, good, d...  ...  [great, stay, great, stay, went, seahawk, game...\n",
              "Tokens_stWords  [nice, hotel, expensive, parking, got, good, d...  ...  [great, stay, great, stay, went, seahawk, game...\n",
              "Tokens_pos      [(nice, JJ), (hotel, NN), (expensive, JJ), (pa...  ...  [(great, JJ), (stay, NN), (great, JJ), (stay, ...\n",
              "Tokens_stem     [nice, hotel, expens, park, got, good, deal, s...  ...  [great, stay, great, stay, went, seahawk, game...\n",
              "Tokens_lemma    [nice, hotel, expensive, parking, get, good, d...  ...  [great, stay, great, stay, go, seahawk, game, ...\n",
              "\n",
              "[7 rows x 5 columns]"
            ]
          },
          "metadata": {},
          "execution_count": 14
        }
      ]
    },
    {
      "cell_type": "markdown",
      "metadata": {
        "id": "ZLehOvx3TTUs"
      },
      "source": [
        "## Passo 2: Análise de Sentimentos"
      ]
    },
    {
      "cell_type": "code",
      "metadata": {
        "colab": {
          "base_uri": "https://localhost:8080/",
          "height": 204
        },
        "id": "qYnAsTZuMn2F",
        "outputId": "fe1ec150-6bfe-4134-96fc-60b61fbabd1b"
      },
      "source": [
        "# Modificando o dataset para incluir uma análise de sentimentos\n",
        "\n",
        "import numpy as np\n",
        "\n",
        "dt = dt[dt.Rating!=3]\n",
        "dt['Feeling'] = np.where(dt['Rating'] >= 4, 'positive', 'negative')\n",
        "\n",
        "dt = dt[['Review', 'Feeling']]\n",
        "dt.head()"
      ],
      "execution_count": 15,
      "outputs": [
        {
          "output_type": "execute_result",
          "data": {
            "text/html": [
              "<div>\n",
              "<style scoped>\n",
              "    .dataframe tbody tr th:only-of-type {\n",
              "        vertical-align: middle;\n",
              "    }\n",
              "\n",
              "    .dataframe tbody tr th {\n",
              "        vertical-align: top;\n",
              "    }\n",
              "\n",
              "    .dataframe thead th {\n",
              "        text-align: right;\n",
              "    }\n",
              "</style>\n",
              "<table border=\"1\" class=\"dataframe\">\n",
              "  <thead>\n",
              "    <tr style=\"text-align: right;\">\n",
              "      <th></th>\n",
              "      <th>Review</th>\n",
              "      <th>Feeling</th>\n",
              "    </tr>\n",
              "  </thead>\n",
              "  <tbody>\n",
              "    <tr>\n",
              "      <th>0</th>\n",
              "      <td>nice hotel expensive parking got good deal sta...</td>\n",
              "      <td>positive</td>\n",
              "    </tr>\n",
              "    <tr>\n",
              "      <th>1</th>\n",
              "      <td>ok nothing special charge diamond member hilto...</td>\n",
              "      <td>negative</td>\n",
              "    </tr>\n",
              "    <tr>\n",
              "      <th>3</th>\n",
              "      <td>unique  great stay  wonderful time hotel monac...</td>\n",
              "      <td>positive</td>\n",
              "    </tr>\n",
              "    <tr>\n",
              "      <th>4</th>\n",
              "      <td>great stay great stay  went seahawk game aweso...</td>\n",
              "      <td>positive</td>\n",
              "    </tr>\n",
              "    <tr>\n",
              "      <th>5</th>\n",
              "      <td>love monaco staff husband stayed hotel crazy w...</td>\n",
              "      <td>positive</td>\n",
              "    </tr>\n",
              "  </tbody>\n",
              "</table>\n",
              "</div>"
            ],
            "text/plain": [
              "                                              Review   Feeling\n",
              "0  nice hotel expensive parking got good deal sta...  positive\n",
              "1  ok nothing special charge diamond member hilto...  negative\n",
              "3  unique  great stay  wonderful time hotel monac...  positive\n",
              "4  great stay great stay  went seahawk game aweso...  positive\n",
              "5  love monaco staff husband stayed hotel crazy w...  positive"
            ]
          },
          "metadata": {},
          "execution_count": 15
        }
      ]
    },
    {
      "cell_type": "code",
      "metadata": {
        "colab": {
          "base_uri": "https://localhost:8080/"
        },
        "id": "yOxFlCcrNe-9",
        "outputId": "3f5372db-5bd1-4a0d-e815-f3f423b1a989"
      },
      "source": [
        "# Com isso, podemos notar que as revisões tendem a ser positivas,tendo somente 17% das avaliações um sentimento negativo!\n",
        "dt.Feeling.value_counts(normalize=True)"
      ],
      "execution_count": 16,
      "outputs": [
        {
          "output_type": "execute_result",
          "data": {
            "text/plain": [
              "positive    0.824439\n",
              "negative    0.175561\n",
              "Name: Feeling, dtype: float64"
            ]
          },
          "metadata": {},
          "execution_count": 16
        }
      ]
    },
    {
      "cell_type": "code",
      "metadata": {
        "colab": {
          "base_uri": "https://localhost:8080/"
        },
        "id": "azAq9brgNr6S",
        "outputId": "b7990de3-eaf3-4333-d95f-c3e8a1741a16"
      },
      "source": [
        "# Preparando o modelo para a análise - criação de dados para treino e teste\n",
        "\n",
        "reviews = dt.Review\n",
        "feeling = dt.Feeling\n",
        "\n",
        "from sklearn.model_selection import train_test_split\n",
        "\n",
        "X_train, X_test, Y_train, Y_test = train_test_split(reviews, feeling, test_size=0.2, random_state = 40)\n",
        "\n",
        "# Tamanho dos dados de treino / teste\n",
        "X_train.shape, Y_train.shape, X_test.shape, Y_test.shape"
      ],
      "execution_count": 17,
      "outputs": [
        {
          "output_type": "execute_result",
          "data": {
            "text/plain": [
              "((14645,), (14645,), (3662,), (3662,))"
            ]
          },
          "metadata": {},
          "execution_count": 17
        }
      ]
    },
    {
      "cell_type": "code",
      "metadata": {
        "colab": {
          "base_uri": "https://localhost:8080/"
        },
        "id": "kJPFZadTQfTG",
        "outputId": "bab0e863-cd92-4f9f-a519-2048847e029c"
      },
      "source": [
        "# Criação da primeira matriz\n",
        "\n",
        "from sklearn.feature_extraction.text import CountVectorizer\n",
        "\n",
        "matrix1 = CountVectorizer(stop_words='english')\n",
        "\n",
        "X_train_matrix1 = matrix1.fit_transform(X_train)\n",
        "X_test_matrix1  = matrix1.transform(X_test)\n",
        "\n",
        "print(X_train_matrix1.toarray().shape)"
      ],
      "execution_count": 18,
      "outputs": [
        {
          "output_type": "stream",
          "name": "stdout",
          "text": [
            "(14645, 41473)\n"
          ]
        }
      ]
    },
    {
      "cell_type": "code",
      "metadata": {
        "id": "u_LvwvLwZv5i"
      },
      "source": [
        ""
      ],
      "execution_count": 18,
      "outputs": []
    },
    {
      "cell_type": "code",
      "metadata": {
        "colab": {
          "base_uri": "https://localhost:8080/"
        },
        "id": "ql2HkNrJZVnY",
        "outputId": "3f5b3d85-d313-4f6b-c889-49fdc2db6b87"
      },
      "source": [
        "print(X_train_matrix1)"
      ],
      "execution_count": 19,
      "outputs": [
        {
          "output_type": "stream",
          "name": "stdout",
          "text": [
            "  (0, 16148)\t1\n",
            "  (0, 17695)\t2\n",
            "  (0, 12945)\t1\n",
            "  (0, 32555)\t1\n",
            "  (0, 34749)\t1\n",
            "  (0, 24558)\t1\n",
            "  (0, 7359)\t1\n",
            "  (0, 20925)\t1\n",
            "  (0, 15953)\t1\n",
            "  (0, 20156)\t1\n",
            "  (0, 15886)\t1\n",
            "  (0, 14834)\t1\n",
            "  (0, 11416)\t1\n",
            "  (0, 694)\t1\n",
            "  (0, 12788)\t2\n",
            "  (0, 7449)\t1\n",
            "  (0, 10139)\t1\n",
            "  (0, 5181)\t1\n",
            "  (0, 434)\t1\n",
            "  (0, 8473)\t1\n",
            "  (0, 21347)\t1\n",
            "  (0, 22056)\t2\n",
            "  (0, 22906)\t1\n",
            "  (0, 34719)\t1\n",
            "  (0, 11293)\t1\n",
            "  :\t:\n",
            "  (14644, 34592)\t1\n",
            "  (14644, 18254)\t1\n",
            "  (14644, 8986)\t1\n",
            "  (14644, 3806)\t1\n",
            "  (14644, 32600)\t1\n",
            "  (14644, 6586)\t1\n",
            "  (14644, 35815)\t1\n",
            "  (14644, 26479)\t1\n",
            "  (14644, 36292)\t1\n",
            "  (14644, 24181)\t1\n",
            "  (14644, 34414)\t1\n",
            "  (14644, 17137)\t2\n",
            "  (14644, 28232)\t1\n",
            "  (14644, 22384)\t1\n",
            "  (14644, 37628)\t1\n",
            "  (14644, 8400)\t1\n",
            "  (14644, 18260)\t1\n",
            "  (14644, 36552)\t1\n",
            "  (14644, 39119)\t1\n",
            "  (14644, 39118)\t1\n",
            "  (14644, 17005)\t1\n",
            "  (14644, 31743)\t3\n",
            "  (14644, 810)\t1\n",
            "  (14644, 35025)\t1\n",
            "  (14644, 228)\t1\n"
          ]
        }
      ]
    },
    {
      "cell_type": "code",
      "metadata": {
        "colab": {
          "base_uri": "https://localhost:8080/",
          "height": 232
        },
        "id": "lmjkEPyfZZ7D",
        "outputId": "301a24be-8a81-4053-c629-18ab0ca2d3cb"
      },
      "source": [
        "# Criando a Matriz 2\n",
        "matrix2 = CountVectorizer(ngram_range=(1,2), binary=True, stop_words='english')\n",
        "\n",
        "X_train_matrix2 = matrix2.fit_transform(X_train)\n",
        "X_test_matrix2  = matrix2.transform(X_test)\n",
        "\n",
        "print(X_train_matrix2.toarray().shape)"
      ],
      "execution_count": 1,
      "outputs": [
        {
          "output_type": "error",
          "ename": "NameError",
          "evalue": "ignored",
          "traceback": [
            "\u001b[0;31m---------------------------------------------------------------------------\u001b[0m",
            "\u001b[0;31mNameError\u001b[0m                                 Traceback (most recent call last)",
            "\u001b[0;32m<ipython-input-1-75a18cfaf166>\u001b[0m in \u001b[0;36m<module>\u001b[0;34m()\u001b[0m\n\u001b[1;32m      1\u001b[0m \u001b[0;31m# Criando a Matriz 2\u001b[0m\u001b[0;34m\u001b[0m\u001b[0;34m\u001b[0m\u001b[0;34m\u001b[0m\u001b[0m\n\u001b[0;32m----> 2\u001b[0;31m \u001b[0mmatrix2\u001b[0m \u001b[0;34m=\u001b[0m \u001b[0mCountVectorizer\u001b[0m\u001b[0;34m(\u001b[0m\u001b[0mngram_range\u001b[0m\u001b[0;34m=\u001b[0m\u001b[0;34m(\u001b[0m\u001b[0;36m1\u001b[0m\u001b[0;34m,\u001b[0m\u001b[0;36m2\u001b[0m\u001b[0;34m)\u001b[0m\u001b[0;34m,\u001b[0m \u001b[0mbinary\u001b[0m\u001b[0;34m=\u001b[0m\u001b[0;32mTrue\u001b[0m\u001b[0;34m,\u001b[0m \u001b[0mstop_words\u001b[0m\u001b[0;34m=\u001b[0m\u001b[0;34m'english'\u001b[0m\u001b[0;34m)\u001b[0m\u001b[0;34m\u001b[0m\u001b[0;34m\u001b[0m\u001b[0m\n\u001b[0m\u001b[1;32m      3\u001b[0m \u001b[0;34m\u001b[0m\u001b[0m\n\u001b[1;32m      4\u001b[0m \u001b[0mX_train_matrix2\u001b[0m \u001b[0;34m=\u001b[0m \u001b[0mmatrix2\u001b[0m\u001b[0;34m.\u001b[0m\u001b[0mfit_transform\u001b[0m\u001b[0;34m(\u001b[0m\u001b[0mX_train\u001b[0m\u001b[0;34m)\u001b[0m\u001b[0;34m\u001b[0m\u001b[0;34m\u001b[0m\u001b[0m\n\u001b[1;32m      5\u001b[0m \u001b[0mX_test_matrix2\u001b[0m  \u001b[0;34m=\u001b[0m \u001b[0mmatrix2\u001b[0m\u001b[0;34m.\u001b[0m\u001b[0mtransform\u001b[0m\u001b[0;34m(\u001b[0m\u001b[0mX_test\u001b[0m\u001b[0;34m)\u001b[0m\u001b[0;34m\u001b[0m\u001b[0;34m\u001b[0m\u001b[0m\n",
            "\u001b[0;31mNameError\u001b[0m: name 'CountVectorizer' is not defined"
          ]
        }
      ]
    },
    {
      "cell_type": "code",
      "metadata": {
        "colab": {
          "base_uri": "https://localhost:8080/",
          "height": 164
        },
        "id": "fkO1Hq80Zk7F",
        "outputId": "7b6827e1-e7b7-4bc1-b81e-9ccf0a0ec72d"
      },
      "source": [
        "print(X_train_matrix2)"
      ],
      "execution_count": 2,
      "outputs": [
        {
          "output_type": "error",
          "ename": "NameError",
          "evalue": "ignored",
          "traceback": [
            "\u001b[0;31m---------------------------------------------------------------------------\u001b[0m",
            "\u001b[0;31mNameError\u001b[0m                                 Traceback (most recent call last)",
            "\u001b[0;32m<ipython-input-2-7d01e8ea977d>\u001b[0m in \u001b[0;36m<module>\u001b[0;34m()\u001b[0m\n\u001b[0;32m----> 1\u001b[0;31m \u001b[0mprint\u001b[0m\u001b[0;34m(\u001b[0m\u001b[0mX_train_matrix2\u001b[0m\u001b[0;34m)\u001b[0m\u001b[0;34m\u001b[0m\u001b[0;34m\u001b[0m\u001b[0m\n\u001b[0m",
            "\u001b[0;31mNameError\u001b[0m: name 'X_train_matrix2' is not defined"
          ]
        }
      ]
    },
    {
      "cell_type": "code",
      "metadata": {
        "id": "7Ttr1S67bosg"
      },
      "source": [
        "# Criando um modelo de Regressão Logística\n",
        "from sklearn.linear_model import LogisticRegression\n",
        "lr = LogisticRegression()"
      ],
      "execution_count": 3,
      "outputs": []
    },
    {
      "cell_type": "code",
      "metadata": {
        "id": "sADNZ7EEbvZJ"
      },
      "source": [
        "# Treinando o primeiro modelo\n",
        "lr.fit(X_train_matrix1, Y_train)\n",
        "y_pred_matrix1 = lr.predict(X_test_matrix1)"
      ],
      "execution_count": null,
      "outputs": []
    },
    {
      "cell_type": "code",
      "metadata": {
        "id": "i4L6FDO3b7JI"
      },
      "source": [
        "# Treinando o segundo modelo\n",
        "lr.fit(X_train_matrix2, Y_train)\n",
        "y_pred_matrix2 = lr.predict(X_test_matrix2)"
      ],
      "execution_count": null,
      "outputs": []
    },
    {
      "cell_type": "code",
      "metadata": {
        "id": "QN8oHGsicFoQ"
      },
      "source": [
        "# Função para calcular as métricas de erro, já que faremos multiplas vezes\n",
        "\n",
        "from sklearn.metrics import confusion_matrix\n",
        "import matplotlib.pyplot as plt\n",
        "import seaborn as sns\n",
        "from __future__ import division\n",
        "%matplotlib inline\n",
        "\n",
        "def conf_matrix(actual, predicted):\n",
        "    cm = confusion_matrix(actual, predicted)\n",
        "    sns.heatmap(cm, xticklabels=['predicted_negative', 'predicted_positive'], \n",
        "                yticklabels=['actual_negative', 'actual_positive'], annot=True,\n",
        "                fmt='d', annot_kws={'fontsize':20}, cmap=\"YlGnBu\");\n",
        "\n",
        "    true_neg, false_pos = cm[0]\n",
        "    false_neg, true_pos = cm[1]\n",
        "    \n",
        "    a = true_pos + true_neg\n",
        "    b = true_pos + true_neg + false_pos + false_neg\n",
        "    print (a/b)\n",
        "    \n",
        "    accuracy = round(float((true_pos + true_neg) / (true_pos + true_neg + false_pos + false_neg)),3)\n",
        "    precision = round(float((true_pos) / (true_pos + false_pos)),3)\n",
        "    recall = round(float((true_pos) / (true_pos + false_neg)),3)\n",
        "    f1 = round(float(2 * (precision * recall) / (precision + recall)),3)\n",
        "\n",
        "    cm_results = [accuracy, precision, recall, f1]\n",
        "    return cm_results"
      ],
      "execution_count": null,
      "outputs": []
    },
    {
      "cell_type": "code",
      "metadata": {
        "id": "MhDiPAQgcVl7"
      },
      "source": [
        "# Compilando as métricas de erros em um dataframe para comparação\n",
        "\n",
        "results = pd.DataFrame(list(zip(cm1, cm2)))\n",
        "results = results.set_index([['Accuracy', 'Precision', 'Recall', 'F1 Score']])\n",
        "results.columns = ['LogReg1', 'LogReg2']\n",
        "results"
      ],
      "execution_count": null,
      "outputs": []
    }
  ]
}